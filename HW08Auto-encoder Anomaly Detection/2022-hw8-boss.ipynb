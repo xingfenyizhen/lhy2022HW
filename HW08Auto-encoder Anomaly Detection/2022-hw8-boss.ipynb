{
 "cells": [
  {
   "cell_type": "markdown",
   "id": "06c3bce8",
   "metadata": {
    "id": "YiVfKn-6tXz8",
    "papermill": {
     "duration": 0.009401,
     "end_time": "2022-06-14T14:33:37.942509",
     "exception": false,
     "start_time": "2022-06-14T14:33:37.933108",
     "status": "completed"
    },
    "tags": []
   },
   "source": [
    "# **Homework 8 - Anomaly Detection**\n",
    "\n",
    "If there are any questions, please contact mlta-2022spring-ta@googlegroups.com\n",
    "\n",
    "Slide:    [Link]()　Kaggle: [Link](https://www.kaggle.com/c/ml2022spring-hw8)"
   ]
  },
  {
   "cell_type": "markdown",
   "id": "56cc37fc",
   "metadata": {
    "id": "bDk9r2YOcDc9",
    "papermill": {
     "duration": 0.00673,
     "end_time": "2022-06-14T14:33:37.956760",
     "exception": false,
     "start_time": "2022-06-14T14:33:37.950030",
     "status": "completed"
    },
    "tags": []
   },
   "source": [
    "# Set up the environment\n"
   ]
  },
  {
   "cell_type": "markdown",
   "id": "374b5389",
   "metadata": {
    "id": "Oi12tJMYWi0Q",
    "papermill": {
     "duration": 0.0062,
     "end_time": "2022-06-14T14:33:37.969370",
     "exception": false,
     "start_time": "2022-06-14T14:33:37.963170",
     "status": "completed"
    },
    "tags": []
   },
   "source": [
    "## Package installation"
   ]
  },
  {
   "cell_type": "code",
   "execution_count": 1,
   "id": "76d231f2",
   "metadata": {
    "execution": {
     "iopub.execute_input": "2022-06-14T14:33:37.984115Z",
     "iopub.status.busy": "2022-06-14T14:33:37.983555Z",
     "iopub.status.idle": "2022-06-14T14:33:38.702197Z",
     "shell.execute_reply": "2022-06-14T14:33:38.701016Z"
    },
    "id": "wXFcd92fxEke",
    "outputId": "dde01cc1-4268-4108-e860-1fe870c663b9",
    "papermill": {
     "duration": 0.728446,
     "end_time": "2022-06-14T14:33:38.704538",
     "exception": false,
     "start_time": "2022-06-14T14:33:37.976092",
     "status": "completed"
    },
    "tags": []
   },
   "outputs": [
    {
     "name": "stdout",
     "output_type": "stream",
     "text": [
      "Tue Jun 14 14:33:38 2022       \r\n",
      "+-----------------------------------------------------------------------------+\r\n",
      "| NVIDIA-SMI 470.82.01    Driver Version: 470.82.01    CUDA Version: 11.4     |\r\n",
      "|-------------------------------+----------------------+----------------------+\r\n",
      "| GPU  Name        Persistence-M| Bus-Id        Disp.A | Volatile Uncorr. ECC |\r\n",
      "| Fan  Temp  Perf  Pwr:Usage/Cap|         Memory-Usage | GPU-Util  Compute M. |\r\n",
      "|                               |                      |               MIG M. |\r\n",
      "|===============================+======================+======================|\r\n",
      "|   0  Tesla P100-PCIE...  Off  | 00000000:00:04.0 Off |                    0 |\r\n",
      "| N/A   32C    P0    25W / 250W |      0MiB / 16280MiB |      0%      Default |\r\n",
      "|                               |                      |                  N/A |\r\n",
      "+-------------------------------+----------------------+----------------------+\r\n",
      "                                                                               \r\n",
      "+-----------------------------------------------------------------------------+\r\n",
      "| Processes:                                                                  |\r\n",
      "|  GPU   GI   CI        PID   Type   Process name                  GPU Memory |\r\n",
      "|        ID   ID                                                   Usage      |\r\n",
      "|=============================================================================|\r\n",
      "|  No running processes found                                                 |\r\n",
      "+-----------------------------------------------------------------------------+\r\n"
     ]
    }
   ],
   "source": [
    "!nvidia-smi"
   ]
  },
  {
   "cell_type": "code",
   "execution_count": 1,
   "id": "c8c79b93",
   "metadata": {
    "execution": {
     "iopub.execute_input": "2022-06-14T14:33:38.720302Z",
     "iopub.status.busy": "2022-06-14T14:33:38.719651Z",
     "iopub.status.idle": "2022-06-14T14:33:52.667714Z",
     "shell.execute_reply": "2022-06-14T14:33:52.666755Z"
    },
    "id": "7LexxyPWWjJB",
    "outputId": "01e2c9d2-e62b-43f3-f026-d0bfca90ddee",
    "papermill": {
     "duration": 13.958484,
     "end_time": "2022-06-14T14:33:52.670131",
     "exception": false,
     "start_time": "2022-06-14T14:33:38.711647",
     "status": "completed"
    },
    "tags": []
   },
   "outputs": [],
   "source": [
    "# Training progress bar\n",
    "! pip install -q qqdm"
   ]
  },
  {
   "cell_type": "markdown",
   "id": "00cfca90",
   "metadata": {
    "id": "DCgNXSsEWuY7",
    "papermill": {
     "duration": 0.006737,
     "end_time": "2022-06-14T14:33:52.683894",
     "exception": false,
     "start_time": "2022-06-14T14:33:52.677157",
     "status": "completed"
    },
    "tags": []
   },
   "source": [
    "## Downloading data"
   ]
  },
  {
   "cell_type": "code",
   "execution_count": 3,
   "id": "39afffd2",
   "metadata": {
    "execution": {
     "iopub.execute_input": "2022-06-14T14:33:52.699129Z",
     "iopub.status.busy": "2022-06-14T14:33:52.698778Z",
     "iopub.status.idle": "2022-06-14T14:33:52.703022Z",
     "shell.execute_reply": "2022-06-14T14:33:52.702230Z"
    },
    "id": "SCLJtgF2BLSK",
    "outputId": "71e1d075-fcf1-4fe6-ee1b-4b943049c457",
    "papermill": {
     "duration": 0.013637,
     "end_time": "2022-06-14T14:33:52.704668",
     "exception": false,
     "start_time": "2022-06-14T14:33:52.691031",
     "status": "completed"
    },
    "tags": []
   },
   "outputs": [],
   "source": [
    "#!wget https://github.com/MachineLearningHW/HW8_Dataset/releases/download/v1.0.0/data.zip"
   ]
  },
  {
   "cell_type": "code",
   "execution_count": 4,
   "id": "5eccad72",
   "metadata": {
    "execution": {
     "iopub.execute_input": "2022-06-14T14:33:52.719165Z",
     "iopub.status.busy": "2022-06-14T14:33:52.718885Z",
     "iopub.status.idle": "2022-06-14T14:33:52.722245Z",
     "shell.execute_reply": "2022-06-14T14:33:52.721449Z"
    },
    "id": "0K5kmlkuWzhJ",
    "outputId": "560df301-eb9b-48fe-b7a5-30ac87379a23",
    "papermill": {
     "duration": 0.012724,
     "end_time": "2022-06-14T14:33:52.724116",
     "exception": false,
     "start_time": "2022-06-14T14:33:52.711392",
     "status": "completed"
    },
    "tags": []
   },
   "outputs": [],
   "source": [
    "#!unzip data.zip"
   ]
  },
  {
   "cell_type": "markdown",
   "id": "191137fc",
   "metadata": {
    "id": "HNe7QU7n7cqh",
    "papermill": {
     "duration": 0.006908,
     "end_time": "2022-06-14T14:33:52.737858",
     "exception": false,
     "start_time": "2022-06-14T14:33:52.730950",
     "status": "completed"
    },
    "tags": []
   },
   "source": [
    "# Import packages"
   ]
  },
  {
   "cell_type": "code",
   "execution_count": 2,
   "id": "76083dfe",
   "metadata": {
    "execution": {
     "iopub.execute_input": "2022-06-14T14:33:52.751981Z",
     "iopub.status.busy": "2022-06-14T14:33:52.751687Z",
     "iopub.status.idle": "2022-06-14T14:33:54.482550Z",
     "shell.execute_reply": "2022-06-14T14:33:54.481759Z"
    },
    "id": "Jk3qFK_a7k8P",
    "papermill": {
     "duration": 1.740203,
     "end_time": "2022-06-14T14:33:54.484558",
     "exception": false,
     "start_time": "2022-06-14T14:33:52.744355",
     "status": "completed"
    },
    "tags": []
   },
   "outputs": [],
   "source": [
    "import random\n",
    "import numpy as np\n",
    "import torch\n",
    "from torch import nn\n",
    "from torch.utils.data import DataLoader, RandomSampler, SequentialSampler, TensorDataset\n",
    "import torchvision.transforms as transforms\n",
    "import torch.nn.functional as F\n",
    "from torch.autograd import Variable\n",
    "import torchvision.models as models\n",
    "from torch.optim import Adam, AdamW\n",
    "from qqdm import qqdm, format_str\n",
    "import pandas as pd"
   ]
  },
  {
   "cell_type": "markdown",
   "id": "503843e5",
   "metadata": {
    "id": "6X6fkGPnYyaF",
    "papermill": {
     "duration": 0.006452,
     "end_time": "2022-06-14T14:33:54.498066",
     "exception": false,
     "start_time": "2022-06-14T14:33:54.491614",
     "status": "completed"
    },
    "tags": []
   },
   "source": [
    "# Loading data"
   ]
  },
  {
   "cell_type": "code",
   "execution_count": 6,
   "id": "183b4843",
   "metadata": {
    "execution": {
     "iopub.execute_input": "2022-06-14T14:33:54.512971Z",
     "iopub.status.busy": "2022-06-14T14:33:54.512127Z",
     "iopub.status.idle": "2022-06-14T14:34:14.106647Z",
     "shell.execute_reply": "2022-06-14T14:34:14.105514Z"
    },
    "id": "k7Wd4yiUYzAm",
    "outputId": "324c7114-2851-4a45-ae8c-aedf1cb32436",
    "papermill": {
     "duration": 19.604315,
     "end_time": "2022-06-14T14:34:14.108905",
     "exception": false,
     "start_time": "2022-06-14T14:33:54.504590",
     "status": "completed"
    },
    "tags": []
   },
   "outputs": [
    {
     "name": "stdout",
     "output_type": "stream",
     "text": [
      "(100000, 64, 64, 3)\n",
      "(19636, 64, 64, 3)\n"
     ]
    }
   ],
   "source": [
    "\n",
    "train = np.load('../input/ml2022spring-hw8/data/trainingset.npy', allow_pickle=True)\n",
    "test = np.load('../input/ml2022spring-hw8/data/testingset.npy', allow_pickle=True)\n",
    "\n",
    "print(train.shape)\n",
    "print(test.shape)"
   ]
  },
  {
   "cell_type": "markdown",
   "id": "b8306a71",
   "metadata": {
    "id": "_flpmj6OYIa6",
    "papermill": {
     "duration": 0.0068,
     "end_time": "2022-06-14T14:34:14.122611",
     "exception": false,
     "start_time": "2022-06-14T14:34:14.115811",
     "status": "completed"
    },
    "tags": []
   },
   "source": [
    "## Random seed\n",
    "Set the random seed to a certain value for reproducibility."
   ]
  },
  {
   "cell_type": "code",
   "execution_count": 7,
   "id": "f943677d",
   "metadata": {
    "execution": {
     "iopub.execute_input": "2022-06-14T14:34:14.137535Z",
     "iopub.status.busy": "2022-06-14T14:34:14.137245Z",
     "iopub.status.idle": "2022-06-14T14:34:14.189931Z",
     "shell.execute_reply": "2022-06-14T14:34:14.189162Z"
    },
    "id": "Gb-dgXQYYI2Q",
    "papermill": {
     "duration": 0.06208,
     "end_time": "2022-06-14T14:34:14.191749",
     "exception": false,
     "start_time": "2022-06-14T14:34:14.129669",
     "status": "completed"
    },
    "tags": []
   },
   "outputs": [],
   "source": [
    "def same_seeds(seed):\n",
    "    random.seed(seed)\n",
    "    np.random.seed(seed)\n",
    "    torch.manual_seed(seed)\n",
    "    if torch.cuda.is_available():\n",
    "        torch.cuda.manual_seed(seed)\n",
    "        torch.cuda.manual_seed_all(seed)\n",
    "    torch.backends.cudnn.benchmark = False\n",
    "    torch.backends.cudnn.deterministic = True\n",
    "\n",
    "same_seeds(42)"
   ]
  },
  {
   "cell_type": "markdown",
   "id": "6d39a522",
   "metadata": {
    "id": "zR9zC0_Df-CR",
    "papermill": {
     "duration": 0.006445,
     "end_time": "2022-06-14T14:34:14.205178",
     "exception": false,
     "start_time": "2022-06-14T14:34:14.198733",
     "status": "completed"
    },
    "tags": []
   },
   "source": [
    "# Autoencoder"
   ]
  },
  {
   "cell_type": "markdown",
   "id": "1a1efef9",
   "metadata": {
    "id": "1EbfwRREhA7c",
    "papermill": {
     "duration": 0.006887,
     "end_time": "2022-06-14T14:34:14.219058",
     "exception": false,
     "start_time": "2022-06-14T14:34:14.212171",
     "status": "completed"
    },
    "tags": []
   },
   "source": [
    "# Models & loss"
   ]
  },
  {
   "cell_type": "code",
   "execution_count": 8,
   "id": "4911d8f7",
   "metadata": {
    "execution": {
     "iopub.execute_input": "2022-06-14T14:34:14.234039Z",
     "iopub.status.busy": "2022-06-14T14:34:14.233750Z",
     "iopub.status.idle": "2022-06-14T14:34:14.269494Z",
     "shell.execute_reply": "2022-06-14T14:34:14.267916Z"
    },
    "id": "Wi8ds1fugCkR",
    "papermill": {
     "duration": 0.046032,
     "end_time": "2022-06-14T14:34:14.271932",
     "exception": false,
     "start_time": "2022-06-14T14:34:14.225900",
     "status": "completed"
    },
    "tags": []
   },
   "outputs": [],
   "source": [
    "class fcn_autoencoder(nn.Module):\n",
    "    def __init__(self):\n",
    "        super(fcn_autoencoder, self).__init__()\n",
    "        self.encoder = nn.Sequential(\n",
    "            nn.Linear(64 * 64 * 3, 1024),\n",
    "            nn.ReLU(),\n",
    "            nn.Linear(1024, 256),\n",
    "            nn.ReLU(), \n",
    "            nn.Linear(256, 64), \n",
    "            nn.ReLU(), \n",
    "            nn.Linear(64, 10)\n",
    "        )\n",
    "        \n",
    "        self.decoder = nn.Sequential(\n",
    "            nn.Linear(10, 64),\n",
    "            nn.ReLU(), \n",
    "            nn.Linear(64, 256),\n",
    "            nn.ReLU(),\n",
    "            nn.Linear(256, 1024),\n",
    "            nn.ReLU(), \n",
    "            nn.Linear(1024, 64 * 64 * 3), \n",
    "            nn.Tanh()\n",
    "        )\n",
    "\n",
    "    def forward(self, x):\n",
    "        x = self.encoder(x)\n",
    "        x = self.decoder(x)\n",
    "        return x\n",
    "\n",
    "class conv_autoencoder(nn.Module):\n",
    "    def __init__(self):\n",
    "        super(conv_autoencoder, self).__init__()\n",
    "        self.encoder = nn.Sequential(\n",
    "            nn.Conv2d(3, 24, 4, stride=2, padding=1),\n",
    "            nn.BatchNorm2d(24),\n",
    "            nn.ReLU(),\n",
    "            nn.Conv2d(24, 24, 4, stride=2, padding=1),\n",
    "            nn.BatchNorm2d(24),\n",
    "            nn.ReLU(),\n",
    "            nn.Conv2d(24, 48, 4, stride=2, padding=1),\n",
    "            nn.BatchNorm2d(48),\n",
    "            nn.ReLU(),\n",
    "            nn.Conv2d(48, 96, 4, stride=2, padding=1),\n",
    "            nn.BatchNorm2d(96),\n",
    "            nn.ReLU(),\n",
    "            nn.Flatten(),\n",
    "            nn.Dropout(0.2),\n",
    "            nn.Linear(96*4*4, 128),\n",
    "            nn.BatchNorm1d(128),\n",
    "            nn.Dropout(0.2),\n",
    "            nn.Linear(128, 10),\n",
    "            nn.BatchNorm1d(10),\n",
    "            nn.ReLU()\n",
    "        )\n",
    "        self.decoder = nn.Sequential(\n",
    "            nn.Linear(10, 128),\n",
    "            nn.BatchNorm1d(128),\n",
    "            nn.ReLU(),\n",
    "            nn.Linear(128, 96*4*4),\n",
    "            nn.BatchNorm1d(96*4*4),\n",
    "            nn.ReLU(),\n",
    "            nn.Unflatten(1, (96, 4, 4)),\n",
    "            nn.ConvTranspose2d(96, 48, 4, stride=2, padding=1),\n",
    "            nn.BatchNorm2d(48),\n",
    "            nn.ReLU(),\n",
    "            nn.ConvTranspose2d(48, 24, 4, stride=2, padding=1),\n",
    "            nn.BatchNorm2d(24),\n",
    "            nn.ReLU(),\n",
    "            nn.ConvTranspose2d(24, 12, 4, stride=2, padding=1),\n",
    "            nn.BatchNorm2d(12),\n",
    "            nn.ReLU(),\n",
    "            nn.ConvTranspose2d(12, 3, 4, stride=2, padding=1),\n",
    "            nn.Tanh(),\n",
    "        )\n",
    "\n",
    "    def forward(self, x):\n",
    "        x = self.encoder(x)\n",
    "        x = self.decoder(x)\n",
    "        return x     \n",
    "\n",
    "\n",
    "\n",
    "class VAE(nn.Module):\n",
    "    def __init__(self):\n",
    "        super(VAE, self).__init__()\n",
    "        self.encoder = nn.Sequential(\n",
    "            nn.Conv2d(3, 32, 4, stride=2, padding=1), \n",
    "            nn.BatchNorm2d(32),\n",
    "            nn.ReLU(),\n",
    "            nn.Conv2d(32, 64, 4, stride=2, padding=1),\n",
    "            nn.BatchNorm2d(64),\n",
    "            nn.ReLU(),\n",
    "            nn.Conv2d(64, 64, 4, stride=2, padding=1),\n",
    "            nn.BatchNorm2d(64),\n",
    "            nn.ReLU(),\n",
    "            nn.Conv2d(64, 64, 4, stride=2, padding=1),\n",
    "            nn.BatchNorm2d(64),\n",
    "            nn.ReLU(),\n",
    "            nn.Flatten()\n",
    "        )\n",
    "        self.enc_out_1 = nn.Sequential(\n",
    "            nn.Dropout(0.2),\n",
    "            nn.Linear(64*4*4, 128),\n",
    "            #nn.BatchNorm1d(128),\n",
    "            nn.ReLU(),\n",
    "            \n",
    "            nn.Dropout(0.2),\n",
    "            nn.Linear(128, 10),\n",
    "            #nn.BatchNorm1d(10),\n",
    "            nn.ReLU()\n",
    "        )\n",
    "        self.enc_out_2 = nn.Sequential(\n",
    "            #nn.Conv2d(48, 12, 4, stride=2, padding=1),\n",
    "            #nn.ReLU(),\n",
    "            nn.Dropout(0.2),\n",
    "            nn.Linear(64*4*4, 128),\n",
    "            #nn.BatchNorm1d(128),\n",
    "            nn.ReLU(),\n",
    "            \n",
    "            nn.Dropout(0.2),\n",
    "            nn.Linear(128, 10),\n",
    "            #nn.BatchNorm1d(10),\n",
    "            nn.ReLU()\n",
    "        )\n",
    "\n",
    "        self.decoder = nn.Sequential(\n",
    "            nn.Linear(10, 128),\n",
    "            nn.BatchNorm1d(128),\n",
    "            nn.ReLU(),\n",
    "            nn.Linear(128, 32*4*4),\n",
    "            nn.BatchNorm1d(32*4*4),\n",
    "            nn.ReLU(),\n",
    "            nn.Unflatten(1, (32, 4, 4)),\n",
    "            nn.ConvTranspose2d(32, 64, 4, stride=2, padding=1),\n",
    "            nn.BatchNorm2d(64),\n",
    "            nn.ReLU(),\n",
    "            nn.ConvTranspose2d(64, 64, 4, stride=2, padding=1),\n",
    "            nn.BatchNorm2d(64),\n",
    "            nn.ReLU(),\n",
    "            nn.ConvTranspose2d(64, 32, 4, stride=2, padding=1), \n",
    "            nn.BatchNorm2d(32),\n",
    "            nn.ReLU(),\n",
    "            nn.ConvTranspose2d(32, 3, 4, stride=2, padding=1),\n",
    "            nn.Tanh(),\n",
    "        )\n",
    "\n",
    "    def encode(self, x):\n",
    "        h1 = self.encoder(x)\n",
    "        return self.enc_out_1(h1), self.enc_out_2(h1)\n",
    "\n",
    "    def reparametrize(self, mu, logvar):\n",
    "        std = logvar.mul(0.5).exp_()\n",
    "        if torch.cuda.is_available():\n",
    "            eps = torch.cuda.FloatTensor(std.size()).normal_()\n",
    "        else:\n",
    "            eps = torch.FloatTensor(std.size()).normal_()\n",
    "        eps = Variable(eps)\n",
    "        return eps.mul(std).add_(mu)\n",
    "\n",
    "    def decode(self, z):\n",
    "        return self.decoder(z)\n",
    "\n",
    "    def forward(self, x):\n",
    "        mu, logvar = self.encode(x)\n",
    "        z = self.reparametrize(mu, logvar)\n",
    "        return self.decode(z), mu, logvar\n",
    "\n",
    "\n",
    "def loss_vae(recon_x, x, mu, logvar, criterion):\n",
    "    \"\"\"\n",
    "    recon_x: generating images\n",
    "    x: origin images\n",
    "    mu: latent mean\n",
    "    logvar: latent log variance\n",
    "    \"\"\"\n",
    "    mse = criterion(recon_x, x)\n",
    "    KLD_element = mu.pow(2).add_(logvar.exp()).mul_(-1).add_(1).add_(logvar)\n",
    "    KLD = torch.sum(KLD_element).mul_(-0.5)\n",
    "    return mse + KLD"
   ]
  },
  {
   "cell_type": "code",
   "execution_count": 9,
   "id": "3e588dfa",
   "metadata": {
    "execution": {
     "iopub.execute_input": "2022-06-14T14:34:14.287765Z",
     "iopub.status.busy": "2022-06-14T14:34:14.286382Z",
     "iopub.status.idle": "2022-06-14T14:34:14.301775Z",
     "shell.execute_reply": "2022-06-14T14:34:14.301060Z"
    },
    "id": "4fOLmFDsxtsB",
    "papermill": {
     "duration": 0.024802,
     "end_time": "2022-06-14T14:34:14.303676",
     "exception": false,
     "start_time": "2022-06-14T14:34:14.278874",
     "status": "completed"
    },
    "tags": []
   },
   "outputs": [],
   "source": [
    "class ensemble(nn.Module):\n",
    "    def __init__(self):\n",
    "        super().__init__()\n",
    "        self.encoder_1 = nn.Sequential(\n",
    "            nn.Flatten(),\n",
    "            nn.Linear(64 * 64 * 3, 1024),\n",
    "            nn.BatchNorm1d(1024),\n",
    "            nn.ReLU(),\n",
    "            nn.Dropout(0.2),\n",
    "            nn.Linear(1024, 256),\n",
    "            nn.BatchNorm1d(256),\n",
    "            nn.ReLU(), \n",
    "            nn.Dropout(0.2),\n",
    "            nn.Linear(256, 64), \n",
    "            nn.BatchNorm1d(64),\n",
    "            nn.ReLU(), \n",
    "        )\n",
    "        \n",
    "        self.encoder_2 = nn.Sequential(\n",
    "            nn.Conv2d(3, 128, 4, stride=2, padding=1),\n",
    "            nn.BatchNorm2d(128),\n",
    "            nn.ReLU(),\n",
    "            nn.Conv2d(128, 256, 4, stride=2, padding=1),\n",
    "            nn.BatchNorm2d(256),\n",
    "            nn.ReLU(),\n",
    "            nn.Conv2d(256, 256, 4, stride=2, padding=1),\n",
    "            nn.BatchNorm2d(256),\n",
    "            nn.ReLU(),\n",
    "            nn.Conv2d(256, 128, 4, stride=2, padding=1),\n",
    "            nn.BatchNorm2d(128),\n",
    "            nn.ReLU(),\n",
    "            nn.Flatten(),\n",
    "            nn.Dropout(0.2),\n",
    "            nn.Linear(128*4*4, 128),\n",
    "            nn.BatchNorm1d(128),\n",
    "            nn.ReLU(),\n",
    "        )\n",
    "        \n",
    "        self.decoder = nn.Sequential(\n",
    "                nn.Linear(192, 128*4*4),\n",
    "                nn.BatchNorm1d(128*4*4),\n",
    "                nn.ReLU(),\n",
    "                nn.Unflatten(1, (128, 4, 4)),\n",
    "                nn.ConvTranspose2d(128, 256, 4, stride=2, padding=1),\n",
    "                nn.BatchNorm2d(256),\n",
    "                nn.ReLU(),\n",
    "                nn.ConvTranspose2d(256, 256, 4, stride=2, padding=1),\n",
    "                nn.BatchNorm2d(256),\n",
    "                nn.ReLU(),\n",
    "                nn.ConvTranspose2d(256, 128, 4, stride=2, padding=1),\n",
    "                nn.BatchNorm2d(128),\n",
    "                nn.ReLU(),\n",
    "                nn.ConvTranspose2d(128, 3, 4, stride=2, padding=1),\n",
    "                nn.Tanh(),\n",
    "        )\n",
    "        \n",
    "    def encoder(self, x):\n",
    "        x1 = self.encoder_1(x)\n",
    "        x2 = self.encoder_2(x)\n",
    "        return torch.cat((x1, x2), 1)\n",
    "        \n",
    "    def forward(self, x):\n",
    "        x = self.encoder(x)\n",
    "        x = self.decoder(x)\n",
    "        return x"
   ]
  },
  {
   "cell_type": "code",
   "execution_count": 10,
   "id": "173c3ca5",
   "metadata": {
    "execution": {
     "iopub.execute_input": "2022-06-14T14:34:14.318220Z",
     "iopub.status.busy": "2022-06-14T14:34:14.317961Z",
     "iopub.status.idle": "2022-06-14T14:34:14.342860Z",
     "shell.execute_reply": "2022-06-14T14:34:14.342029Z"
    },
    "id": "GDfjQUAUxuij",
    "papermill": {
     "duration": 0.034455,
     "end_time": "2022-06-14T14:34:14.344786",
     "exception": false,
     "start_time": "2022-06-14T14:34:14.310331",
     "status": "completed"
    },
    "tags": []
   },
   "outputs": [],
   "source": [
    "class Residual_Block(nn.Module):\n",
    "    def __init__(self, ic, oc, stride=1):\n",
    "        super().__init__()\n",
    "        self.conv1 = nn.Sequential(\n",
    "            nn.Conv2d(ic, oc, kernel_size=3, stride=stride, padding=1),\n",
    "            nn.BatchNorm2d(oc),\n",
    "            nn.ReLU(inplace=True)\n",
    "        )\n",
    "        \n",
    "        self.conv2 = nn.Sequential(\n",
    "            nn.Conv2d(oc, oc, kernel_size=3, stride=1, padding=1),\n",
    "            nn.BatchNorm2d(oc),\n",
    "        )\n",
    "        \n",
    "        self.relu = nn.ReLU(inplace=True)\n",
    "    \n",
    "        self.downsample = None\n",
    "        if stride != 1 or (ic != oc):\n",
    "            self.downsample = nn.Sequential(\n",
    "                nn.Conv2d(ic, oc, kernel_size=1, stride=stride),\n",
    "                nn.BatchNorm2d(oc),\n",
    "            )\n",
    "        \n",
    "    def forward(self, x):\n",
    "        residual = x\n",
    "        out = self.conv1(x)\n",
    "        out = self.conv2(out)\n",
    "        \n",
    "        if self.downsample:\n",
    "            residual = self.downsample(x)\n",
    "            \n",
    "        out += residual\n",
    "        return self.relu(out)\n",
    "    \n",
    "class ResNet(nn.Module):\n",
    "    def __init__(self, block=Residual_Block, num_layers=[2, 1, 1, 1]):\n",
    "        super().__init__()\n",
    "        self.preconv = nn.Sequential(\n",
    "            nn.Conv2d(3, 32, kernel_size=3, stride=1, padding=1, bias=False),\n",
    "            nn.BatchNorm2d(32),\n",
    "            nn.ReLU(inplace=True),\n",
    "        )\n",
    "        self.layer0 = self.make_residual(block, 32, 64,  num_layers[0], stride=2)\n",
    "        self.layer1 = self.make_residual(block, 64, 128, num_layers[1], stride=2)\n",
    "        self.layer2 = self.make_residual(block, 128, 128, num_layers[2], stride=2)\n",
    "        self.layer3 = self.make_residual(block, 128, 64, num_layers[3], stride=2)\n",
    "        \n",
    "        self.fc = nn.Sequential(\n",
    "            nn.Flatten(),\n",
    "            nn.Dropout(0.2),\n",
    "            nn.Linear(64*4*4, 64),\n",
    "            nn.BatchNorm1d(64),\n",
    "            nn.ReLU(inplace=True),\n",
    "        )\n",
    "        \n",
    "        self.decoder = nn.Sequential(\n",
    "            nn.Linear(64, 64*4*4),\n",
    "            nn.BatchNorm1d(64*4*4),\n",
    "            nn.ReLU(),\n",
    "            nn.Unflatten(1, (64, 4, 4)),\n",
    "            nn.ConvTranspose2d(64, 128, 4, stride=2, padding=1),\n",
    "            nn.BatchNorm2d(128),\n",
    "            nn.ReLU(),\n",
    "            nn.ConvTranspose2d(128, 128, 4, stride=2, padding=1),\n",
    "            nn.BatchNorm2d(128),\n",
    "            nn.ReLU(),\n",
    "            nn.ConvTranspose2d(128, 128, 4, stride=2, padding=1),\n",
    "            nn.BatchNorm2d(128),\n",
    "            nn.ReLU(),\n",
    "            nn.ConvTranspose2d(128, 3, 4, stride=2, padding=1),\n",
    "            nn.Tanh(),\n",
    "        )\n",
    "    def make_residual(self, block, ic, oc, num_layer, stride=1):\n",
    "        layers = []\n",
    "        layers.append(block(ic, oc, stride))\n",
    "        for i in range(1, num_layer):\n",
    "            layers.append(block(oc, oc))\n",
    "        return nn.Sequential(*layers)\n",
    "    \n",
    "    def encoder(self, x):\n",
    "        x = self.preconv(x)\n",
    "        x = self.layer0(x) #64*64 --> 32*32\n",
    "        x = self.layer1(x) #32*32 --> 16*16\n",
    "        x = self.layer2(x) #16*16 --> 8*8\n",
    "        x = self.layer3(x) #8*8 --> 4*4\n",
    "        x = self.fc(x)\n",
    "        return x\n",
    "    \n",
    "    def forward(self, x):\n",
    "        x = self.encoder(x)\n",
    "        x = self.decoder(x)\n",
    "        return x\n",
    "    \n",
    "    \n",
    "class Auxiliary(nn.Module):\n",
    "    def __init__(self):\n",
    "        super().__init__()\n",
    "        self.decoder = nn.Sequential(\n",
    "            nn.Linear(64, 64*4*4),\n",
    "            nn.BatchNorm1d(64*4*4),\n",
    "            nn.ReLU(),\n",
    "            nn.Unflatten(1, (64, 4, 4)),\n",
    "            nn.ConvTranspose2d(64, 128, 4, stride=2, padding=1),\n",
    "            nn.BatchNorm2d(128),\n",
    "            nn.ReLU(),\n",
    "            nn.ConvTranspose2d(128, 128, 4, stride=2, padding=1),\n",
    "            nn.BatchNorm2d(128),\n",
    "            nn.ReLU(),\n",
    "            nn.ConvTranspose2d(128, 128, 4, stride=2, padding=1),\n",
    "            nn.BatchNorm2d(128),\n",
    "            nn.ReLU(),\n",
    "            nn.ConvTranspose2d(128, 3, 4, stride=2, padding=1),\n",
    "            nn.Tanh(),\n",
    "        )\n",
    "        \n",
    "    def forward(self, x):\n",
    "        return self.decoder(x)"
   ]
  },
  {
   "cell_type": "markdown",
   "id": "f9d0e149",
   "metadata": {
    "id": "vrJ9bScg9AgO",
    "papermill": {
     "duration": 0.006467,
     "end_time": "2022-06-14T14:34:14.357845",
     "exception": false,
     "start_time": "2022-06-14T14:34:14.351378",
     "status": "completed"
    },
    "tags": []
   },
   "source": [
    "# Dataset module\n",
    "\n",
    "Module for obtaining and processing data. The transform function here normalizes image's pixels from [0, 255] to [-1.0, 1.0].\n"
   ]
  },
  {
   "cell_type": "code",
   "execution_count": 11,
   "id": "505918a9",
   "metadata": {
    "execution": {
     "iopub.execute_input": "2022-06-14T14:34:14.373162Z",
     "iopub.status.busy": "2022-06-14T14:34:14.371920Z",
     "iopub.status.idle": "2022-06-14T14:34:14.379764Z",
     "shell.execute_reply": "2022-06-14T14:34:14.379098Z"
    },
    "id": "33fWhE-h9LPq",
    "papermill": {
     "duration": 0.01693,
     "end_time": "2022-06-14T14:34:14.381364",
     "exception": false,
     "start_time": "2022-06-14T14:34:14.364434",
     "status": "completed"
    },
    "tags": []
   },
   "outputs": [],
   "source": [
    "class CustomTensorDataset(TensorDataset):\n",
    "    \"\"\"TensorDataset with support of transforms.\n",
    "    \"\"\"\n",
    "    def __init__(self, tensors):\n",
    "        self.tensors = tensors\n",
    "        if tensors.shape[-1] == 3:\n",
    "            self.tensors = tensors.permute(0, 3, 1, 2)\n",
    "        \n",
    "        self.transform = transforms.Compose([\n",
    "          transforms.Lambda(lambda x: x.to(torch.float32)),\n",
    "          transforms.Lambda(lambda x: 2. * x/255. - 1.),\n",
    "        ])\n",
    "        \n",
    "    def __getitem__(self, index):\n",
    "        x = self.tensors[index]\n",
    "        \n",
    "        if self.transform:\n",
    "            # mapping images to [-1.0, 1.0]\n",
    "            x = self.transform(x)\n",
    "\n",
    "        return x\n",
    "\n",
    "    def __len__(self):\n",
    "        return len(self.tensors)"
   ]
  },
  {
   "cell_type": "markdown",
   "id": "76c5686f",
   "metadata": {
    "id": "XKNUImqUhIeq",
    "papermill": {
     "duration": 0.006475,
     "end_time": "2022-06-14T14:34:14.394897",
     "exception": false,
     "start_time": "2022-06-14T14:34:14.388422",
     "status": "completed"
    },
    "tags": []
   },
   "source": [
    "# Training"
   ]
  },
  {
   "cell_type": "markdown",
   "id": "0d144436",
   "metadata": {
    "id": "7ebAJdjFmS08",
    "papermill": {
     "duration": 0.006513,
     "end_time": "2022-06-14T14:34:14.407990",
     "exception": false,
     "start_time": "2022-06-14T14:34:14.401477",
     "status": "completed"
    },
    "tags": []
   },
   "source": [
    "## Configuration\n"
   ]
  },
  {
   "cell_type": "code",
   "execution_count": 12,
   "id": "7c9e4710",
   "metadata": {
    "execution": {
     "iopub.execute_input": "2022-06-14T14:34:14.422541Z",
     "iopub.status.busy": "2022-06-14T14:34:14.422287Z",
     "iopub.status.idle": "2022-06-14T14:34:17.454921Z",
     "shell.execute_reply": "2022-06-14T14:34:17.454112Z"
    },
    "id": "in7yLfmqtZTk",
    "papermill": {
     "duration": 3.041944,
     "end_time": "2022-06-14T14:34:17.456938",
     "exception": false,
     "start_time": "2022-06-14T14:34:14.414994",
     "status": "completed"
    },
    "tags": []
   },
   "outputs": [],
   "source": [
    "# Training hyperparameters\n",
    "num_epochs = 70\n",
    "batch_size = 128\n",
    "learning_rate = 1e-3\n",
    "\n",
    "# Build training dataloader\n",
    "x = torch.from_numpy(train)\n",
    "train_dataset = CustomTensorDataset(x)\n",
    "\n",
    "\n",
    "train_sampler = RandomSampler(train_dataset)\n",
    "train_dataloader = DataLoader(train_dataset, sampler=train_sampler, batch_size=batch_size)\n",
    "\n",
    "# Model\n",
    "model_type = 'resnet'   # selecting a model type from {'cnn', 'fcn', 'vae', 'resnet'}\n",
    "model_classes = {'fcn': fcn_autoencoder(), 'cnn': conv_autoencoder(), 'vae': VAE(), 'ensemble':ensemble(), 'resnet':ResNet()}\n",
    "model = model_classes[model_type].cuda()\n",
    "aux = Auxiliary().cuda()\n",
    "\n",
    "# Loss and optimizer\n",
    "\n",
    "criterion = nn.MSELoss()\n",
    "optimizer = torch.optim.AdamW(model.parameters(), lr=learning_rate)\n",
    "optimizer_a = torch.optim.AdamW(aux.parameters(), lr=learning_rate)"
   ]
  },
  {
   "cell_type": "markdown",
   "id": "198e5de6",
   "metadata": {
    "id": "wyooN-JPm8sS",
    "papermill": {
     "duration": 0.006645,
     "end_time": "2022-06-14T14:34:17.470676",
     "exception": false,
     "start_time": "2022-06-14T14:34:17.464031",
     "status": "completed"
    },
    "tags": []
   },
   "source": [
    "## Training loop"
   ]
  },
  {
   "cell_type": "code",
   "execution_count": 13,
   "id": "83128828",
   "metadata": {
    "execution": {
     "iopub.execute_input": "2022-06-14T14:34:17.485506Z",
     "iopub.status.busy": "2022-06-14T14:34:17.485201Z",
     "iopub.status.idle": "2022-06-14T17:11:09.711693Z",
     "shell.execute_reply": "2022-06-14T17:11:09.710908Z"
    },
    "id": "JoW1UrrxgI_U",
    "outputId": "87e8996e-a209-4794-e8c2-b7ff079365f0",
    "papermill": {
     "duration": 9412.236097,
     "end_time": "2022-06-14T17:11:09.713482",
     "exception": false,
     "start_time": "2022-06-14T14:34:17.477385",
     "status": "completed"
    },
    "tags": []
   },
   "outputs": [
    {
     "name": "stderr",
     "output_type": "stream",
     "text": [
      " \u001b[1mIters\u001b[0m    \u001b[1mElapsed Time\u001b[0m      \u001b[1mSpeed\u001b[0m                                               \n",
      " \u001b[99m0/\u001b[93m70\u001b[0m\u001b[0m   \u001b[99m        -        \u001b[0m  \u001b[99m   -    \u001b[0m                                             \n",
      "\u001b[1mDescription\u001b[0m   0.0% |                                       |                    \u001b[K\u001b[F\u001b[K\u001b[F \u001b[1mIters\u001b[0m    \u001b[1mElapsed Time\u001b[0m      \u001b[1mSpeed\u001b[0m    \u001b[1mepoch\u001b[0m   \u001b[1mloss\u001b[0m                               \n",
      " \u001b[99m1/\u001b[93m70\u001b[0m\u001b[0m   \u001b[99m00:02:20<\u001b[93m02:41:31\u001b[0m\u001b[0m  \u001b[99m0.01it/s\u001b[0m  \u001b[99m1/70\u001b[0m   \u001b[99m0.14364\u001b[0m                             \n",
      " \u001b[1mloss_a\u001b[0m                                                                         \n",
      " \u001b[99m0.17293\u001b[0m                                                                        \n",
      "\u001b[1mDescription\u001b[0m   1.4% |                                       |                    \u001b[K\u001b[F\u001b[K\u001b[F\u001b[K\u001b[F\u001b[K\u001b[F \u001b[1mIters\u001b[0m    \u001b[1mElapsed Time\u001b[0m      \u001b[1mSpeed\u001b[0m    \u001b[1mepoch\u001b[0m   \u001b[1mloss\u001b[0m                               \n",
      " \u001b[99m2/\u001b[93m70\u001b[0m\u001b[0m   \u001b[99m00:04:34<\u001b[93m02:35:40\u001b[0m\u001b[0m  \u001b[99m0.01it/s\u001b[0m  \u001b[99m2/70\u001b[0m   \u001b[99m0.06682\u001b[0m                             \n",
      " \u001b[1mloss_a\u001b[0m                                                                         \n",
      " \u001b[99m0.06596\u001b[0m                                                                        \n",
      "\u001b[1mDescription\u001b[0m   2.9% |\u001b[97m█\u001b[0m                                      |                    \u001b[K\u001b[F\u001b[K\u001b[F\u001b[K\u001b[F\u001b[K\u001b[F \u001b[1mIters\u001b[0m    \u001b[1mElapsed Time\u001b[0m      \u001b[1mSpeed\u001b[0m    \u001b[1mepoch\u001b[0m   \u001b[1mloss\u001b[0m                               \n",
      " \u001b[99m3/\u001b[93m70\u001b[0m\u001b[0m   \u001b[99m00:06:48<\u001b[93m02:32:13\u001b[0m\u001b[0m  \u001b[99m0.01it/s\u001b[0m  \u001b[99m3/70\u001b[0m   \u001b[99m0.05912\u001b[0m                             \n",
      " \u001b[1mloss_a\u001b[0m                                                                         \n",
      " \u001b[99m0.05787\u001b[0m                                                                        \n",
      "\u001b[1mDescription\u001b[0m   4.3% |\u001b[97m█\u001b[0m                                      |                    \u001b[K\u001b[F\u001b[K\u001b[F\u001b[K\u001b[F\u001b[K\u001b[F \u001b[1mIters\u001b[0m    \u001b[1mElapsed Time\u001b[0m      \u001b[1mSpeed\u001b[0m    \u001b[1mepoch\u001b[0m   \u001b[1mloss\u001b[0m                               \n",
      " \u001b[99m4/\u001b[93m70\u001b[0m\u001b[0m   \u001b[99m00:09:03<\u001b[93m02:29:28\u001b[0m\u001b[0m  \u001b[99m0.01it/s\u001b[0m  \u001b[99m4/70\u001b[0m   \u001b[99m0.05460\u001b[0m                             \n",
      " \u001b[1mloss_a\u001b[0m                                                                         \n",
      " \u001b[99m0.05312\u001b[0m                                                                        \n",
      "\u001b[1mDescription\u001b[0m   5.7% |\u001b[97m█\u001b[0m\u001b[97m█\u001b[0m                                     |                    \u001b[K\u001b[F\u001b[K\u001b[F\u001b[K\u001b[F\u001b[K\u001b[F \u001b[1mIters\u001b[0m    \u001b[1mElapsed Time\u001b[0m      \u001b[1mSpeed\u001b[0m    \u001b[1mepoch\u001b[0m   \u001b[1mloss\u001b[0m                               \n",
      " \u001b[99m5/\u001b[93m70\u001b[0m\u001b[0m   \u001b[99m00:11:17<\u001b[93m02:26:47\u001b[0m\u001b[0m  \u001b[99m0.01it/s\u001b[0m  \u001b[99m5/70\u001b[0m   \u001b[99m0.05100\u001b[0m                             \n",
      " \u001b[1mloss_a\u001b[0m                                                                         \n",
      " \u001b[99m0.05012\u001b[0m                                                                        \n",
      "\u001b[1mDescription\u001b[0m   7.1% |\u001b[97m█\u001b[0m\u001b[97m█\u001b[0m                                     |                    \u001b[K\u001b[F\u001b[K\u001b[F\u001b[K\u001b[F\u001b[K\u001b[F \u001b[1mIters\u001b[0m    \u001b[1mElapsed Time\u001b[0m      \u001b[1mSpeed\u001b[0m    \u001b[1mepoch\u001b[0m   \u001b[1mloss\u001b[0m                               \n",
      " \u001b[99m6/\u001b[93m70\u001b[0m\u001b[0m   \u001b[99m00:13:32<\u001b[93m02:24:22\u001b[0m\u001b[0m  \u001b[99m0.01it/s\u001b[0m  \u001b[99m6/70\u001b[0m   \u001b[99m0.04836\u001b[0m                             \n",
      " \u001b[1mloss_a\u001b[0m                                                                         \n",
      " \u001b[99m0.04705\u001b[0m                                                                        \n",
      "\u001b[1mDescription\u001b[0m   8.6% |\u001b[97m█\u001b[0m\u001b[97m█\u001b[0m\u001b[97m█\u001b[0m                                    |                    \u001b[K\u001b[F\u001b[K\u001b[F\u001b[K\u001b[F\u001b[K\u001b[F \u001b[1mIters\u001b[0m    \u001b[1mElapsed Time\u001b[0m      \u001b[1mSpeed\u001b[0m    \u001b[1mepoch\u001b[0m   \u001b[1mloss\u001b[0m                               \n",
      " \u001b[99m7/\u001b[93m70\u001b[0m\u001b[0m   \u001b[99m00:15:46<\u001b[93m02:21:58\u001b[0m\u001b[0m  \u001b[99m0.01it/s\u001b[0m  \u001b[99m7/70\u001b[0m   \u001b[99m0.04673\u001b[0m                             \n",
      " \u001b[1mloss_a\u001b[0m                                                                         \n",
      " \u001b[99m0.05069\u001b[0m                                                                        \n",
      "\u001b[1mDescription\u001b[0m  10.0% |\u001b[97m█\u001b[0m\u001b[97m█\u001b[0m\u001b[97m█\u001b[0m                                    |                    \u001b[K\u001b[F\u001b[K\u001b[F\u001b[K\u001b[F\u001b[K\u001b[F \u001b[1mIters\u001b[0m    \u001b[1mElapsed Time\u001b[0m      \u001b[1mSpeed\u001b[0m    \u001b[1mepoch\u001b[0m   \u001b[1mloss\u001b[0m                               \n",
      " \u001b[99m8/\u001b[93m70\u001b[0m\u001b[0m   \u001b[99m00:18:00<\u001b[93m02:19:33\u001b[0m\u001b[0m  \u001b[99m0.01it/s\u001b[0m  \u001b[99m8/70\u001b[0m   \u001b[99m0.04536\u001b[0m                             \n",
      " \u001b[1mloss_a\u001b[0m                                                                         \n",
      " \u001b[99m0.04437\u001b[0m                                                                        \n",
      "\u001b[1mDescription\u001b[0m  11.4% |\u001b[97m█\u001b[0m\u001b[97m█\u001b[0m\u001b[97m█\u001b[0m\u001b[97m█\u001b[0m                                   |                    \u001b[K\u001b[F\u001b[K\u001b[F\u001b[K\u001b[F\u001b[K\u001b[F \u001b[1mIters\u001b[0m    \u001b[1mElapsed Time\u001b[0m      \u001b[1mSpeed\u001b[0m    \u001b[1mepoch\u001b[0m   \u001b[1mloss\u001b[0m                               \n",
      " \u001b[99m9/\u001b[93m70\u001b[0m\u001b[0m   \u001b[99m00:20:14<\u001b[93m02:17:12\u001b[0m\u001b[0m  \u001b[99m0.01it/s\u001b[0m  \u001b[99m9/70\u001b[0m   \u001b[99m0.04454\u001b[0m                             \n",
      " \u001b[1mloss_a\u001b[0m                                                                         \n",
      " \u001b[99m0.04445\u001b[0m                                                                        \n",
      "\u001b[1mDescription\u001b[0m  12.9% |\u001b[97m█\u001b[0m\u001b[97m█\u001b[0m\u001b[97m█\u001b[0m\u001b[97m█\u001b[0m\u001b[97m█\u001b[0m                                  |                    \u001b[K\u001b[F\u001b[K\u001b[F\u001b[K\u001b[F\u001b[K\u001b[F \u001b[1mIters\u001b[0m    \u001b[1mElapsed Time\u001b[0m      \u001b[1mSpeed\u001b[0m    \u001b[1mepoch\u001b[0m   \u001b[1mloss\u001b[0m                               \n",
      " \u001b[99m10/\u001b[93m70\u001b[0m\u001b[0m  \u001b[99m00:22:29<\u001b[93m02:14:54\u001b[0m\u001b[0m  \u001b[99m0.01it/s\u001b[0m  \u001b[99m10/70\u001b[0m  \u001b[99m0.04362\u001b[0m                             \n",
      " \u001b[1mloss_a\u001b[0m                                                                         \n",
      " \u001b[99m0.04305\u001b[0m                                                                        \n",
      "\u001b[1mDescription\u001b[0m  14.3% |\u001b[97m█\u001b[0m\u001b[97m█\u001b[0m\u001b[97m█\u001b[0m\u001b[97m█\u001b[0m\u001b[97m█\u001b[0m                                  |                    \u001b[K\u001b[F\u001b[K\u001b[F\u001b[K\u001b[F\u001b[K\u001b[F \u001b[1mIters\u001b[0m    \u001b[1mElapsed Time\u001b[0m      \u001b[1mSpeed\u001b[0m    \u001b[1mepoch\u001b[0m   \u001b[1mloss\u001b[0m                               \n",
      " \u001b[99m11/\u001b[93m70\u001b[0m\u001b[0m  \u001b[99m00:24:43<\u001b[93m02:12:34\u001b[0m\u001b[0m  \u001b[99m0.01it/s\u001b[0m  \u001b[99m11/70\u001b[0m  \u001b[99m0.04311\u001b[0m                             \n",
      " \u001b[1mloss_a\u001b[0m                                                                         \n",
      " \u001b[99m0.04246\u001b[0m                                                                        \n",
      "\u001b[1mDescription\u001b[0m  15.7% |\u001b[97m█\u001b[0m\u001b[97m█\u001b[0m\u001b[97m█\u001b[0m\u001b[97m█\u001b[0m\u001b[97m█\u001b[0m\u001b[97m█\u001b[0m                                 |                    \u001b[K\u001b[F\u001b[K\u001b[F\u001b[K\u001b[F\u001b[K\u001b[F \u001b[1mIters\u001b[0m    \u001b[1mElapsed Time\u001b[0m      \u001b[1mSpeed\u001b[0m    \u001b[1mepoch\u001b[0m   \u001b[1mloss\u001b[0m                               \n",
      " \u001b[99m12/\u001b[93m70\u001b[0m\u001b[0m  \u001b[99m00:26:57<\u001b[93m02:10:16\u001b[0m\u001b[0m  \u001b[99m0.01it/s\u001b[0m  \u001b[99m12/70\u001b[0m  \u001b[99m0.04248\u001b[0m                             \n",
      " \u001b[1mloss_a\u001b[0m                                                                         \n",
      " \u001b[99m0.04126\u001b[0m                                                                        \n",
      "\u001b[1mDescription\u001b[0m  17.1% |\u001b[97m█\u001b[0m\u001b[97m█\u001b[0m\u001b[97m█\u001b[0m\u001b[97m█\u001b[0m\u001b[97m█\u001b[0m\u001b[97m█\u001b[0m                                 |                    \u001b[K\u001b[F\u001b[K\u001b[F\u001b[K\u001b[F\u001b[K\u001b[F \u001b[1mIters\u001b[0m    \u001b[1mElapsed Time\u001b[0m      \u001b[1mSpeed\u001b[0m    \u001b[1mepoch\u001b[0m   \u001b[1mloss\u001b[0m                               \n",
      " \u001b[99m13/\u001b[93m70\u001b[0m\u001b[0m  \u001b[99m00:29:11<\u001b[93m02:07:57\u001b[0m\u001b[0m  \u001b[99m0.01it/s\u001b[0m  \u001b[99m13/70\u001b[0m  \u001b[99m0.04205\u001b[0m                             \n",
      " \u001b[1mloss_a\u001b[0m                                                                         \n",
      " \u001b[99m0.04205\u001b[0m                                                                        \n",
      "\u001b[1mDescription\u001b[0m  18.6% |\u001b[97m█\u001b[0m\u001b[97m█\u001b[0m\u001b[97m█\u001b[0m\u001b[97m█\u001b[0m\u001b[97m█\u001b[0m\u001b[97m█\u001b[0m\u001b[97m█\u001b[0m                                |                    \u001b[K\u001b[F\u001b[K\u001b[F\u001b[K\u001b[F\u001b[K\u001b[F \u001b[1mIters\u001b[0m    \u001b[1mElapsed Time\u001b[0m      \u001b[1mSpeed\u001b[0m    \u001b[1mepoch\u001b[0m   \u001b[1mloss\u001b[0m                               \n",
      " \u001b[99m14/\u001b[93m70\u001b[0m\u001b[0m  \u001b[99m00:31:25<\u001b[93m02:05:40\u001b[0m\u001b[0m  \u001b[99m0.01it/s\u001b[0m  \u001b[99m14/70\u001b[0m  \u001b[99m0.04156\u001b[0m                             \n",
      " \u001b[1mloss_a\u001b[0m                                                                         \n",
      " \u001b[99m0.04009\u001b[0m                                                                        \n",
      "\u001b[1mDescription\u001b[0m  20.0% |\u001b[97m█\u001b[0m\u001b[97m█\u001b[0m\u001b[97m█\u001b[0m\u001b[97m█\u001b[0m\u001b[97m█\u001b[0m\u001b[97m█\u001b[0m\u001b[97m█\u001b[0m                                |                    \u001b[K\u001b[F\u001b[K\u001b[F\u001b[K\u001b[F\u001b[K\u001b[F \u001b[1mIters\u001b[0m    \u001b[1mElapsed Time\u001b[0m      \u001b[1mSpeed\u001b[0m    \u001b[1mepoch\u001b[0m   \u001b[1mloss\u001b[0m                               \n",
      " \u001b[99m15/\u001b[93m70\u001b[0m\u001b[0m  \u001b[99m00:33:39<\u001b[93m02:03:26\u001b[0m\u001b[0m  \u001b[99m0.01it/s\u001b[0m  \u001b[99m15/70\u001b[0m  \u001b[99m0.04114\u001b[0m                             \n",
      " \u001b[1mloss_a\u001b[0m                                                                         \n",
      " \u001b[99m0.04007\u001b[0m                                                                        \n",
      "\u001b[1mDescription\u001b[0m  21.4% |\u001b[97m█\u001b[0m\u001b[97m█\u001b[0m\u001b[97m█\u001b[0m\u001b[97m█\u001b[0m\u001b[97m█\u001b[0m\u001b[97m█\u001b[0m\u001b[97m█\u001b[0m\u001b[97m█\u001b[0m                               |                    \u001b[K\u001b[F\u001b[K\u001b[F\u001b[K\u001b[F\u001b[K\u001b[F \u001b[1mIters\u001b[0m    \u001b[1mElapsed Time\u001b[0m      \u001b[1mSpeed\u001b[0m    \u001b[1mepoch\u001b[0m   \u001b[1mloss\u001b[0m                               \n",
      " \u001b[99m16/\u001b[93m70\u001b[0m\u001b[0m  \u001b[99m00:35:54<\u001b[93m02:01:11\u001b[0m\u001b[0m  \u001b[99m0.01it/s\u001b[0m  \u001b[99m16/70\u001b[0m  \u001b[99m0.04076\u001b[0m                             \n",
      " \u001b[1mloss_a\u001b[0m                                                                         \n",
      " \u001b[99m0.03981\u001b[0m                                                                        \n",
      "\u001b[1mDescription\u001b[0m  22.9% |\u001b[97m█\u001b[0m\u001b[97m█\u001b[0m\u001b[97m█\u001b[0m\u001b[97m█\u001b[0m\u001b[97m█\u001b[0m\u001b[97m█\u001b[0m\u001b[97m█\u001b[0m\u001b[97m█\u001b[0m                               |                    \u001b[K\u001b[F\u001b[K\u001b[F\u001b[K\u001b[F\u001b[K\u001b[F \u001b[1mIters\u001b[0m    \u001b[1mElapsed Time\u001b[0m      \u001b[1mSpeed\u001b[0m    \u001b[1mepoch\u001b[0m   \u001b[1mloss\u001b[0m                               \n",
      " \u001b[99m17/\u001b[93m70\u001b[0m\u001b[0m  \u001b[99m00:38:09<\u001b[93m01:58:58\u001b[0m\u001b[0m  \u001b[99m0.01it/s\u001b[0m  \u001b[99m17/70\u001b[0m  \u001b[99m0.04077\u001b[0m                             \n",
      " \u001b[1mloss_a\u001b[0m                                                                         \n",
      " \u001b[99m0.04126\u001b[0m                                                                        \n",
      "\u001b[1mDescription\u001b[0m  24.3% |\u001b[97m█\u001b[0m\u001b[97m█\u001b[0m\u001b[97m█\u001b[0m\u001b[97m█\u001b[0m\u001b[97m█\u001b[0m\u001b[97m█\u001b[0m\u001b[97m█\u001b[0m\u001b[97m█\u001b[0m\u001b[97m█\u001b[0m                              |                    \u001b[K\u001b[F\u001b[K\u001b[F\u001b[K\u001b[F\u001b[K\u001b[F \u001b[1mIters\u001b[0m    \u001b[1mElapsed Time\u001b[0m      \u001b[1mSpeed\u001b[0m    \u001b[1mepoch\u001b[0m   \u001b[1mloss\u001b[0m                               \n",
      " \u001b[99m18/\u001b[93m70\u001b[0m\u001b[0m  \u001b[99m00:40:24<\u001b[93m01:56:44\u001b[0m\u001b[0m  \u001b[99m0.01it/s\u001b[0m  \u001b[99m18/70\u001b[0m  \u001b[99m0.04032\u001b[0m                             \n",
      " \u001b[1mloss_a\u001b[0m                                                                         \n",
      " \u001b[99m0.03975\u001b[0m                                                                        \n",
      "\u001b[1mDescription\u001b[0m  25.7% |\u001b[97m█\u001b[0m\u001b[97m█\u001b[0m\u001b[97m█\u001b[0m\u001b[97m█\u001b[0m\u001b[97m█\u001b[0m\u001b[97m█\u001b[0m\u001b[97m█\u001b[0m\u001b[97m█\u001b[0m\u001b[97m█\u001b[0m\u001b[97m█\u001b[0m                             |                    \u001b[K\u001b[F\u001b[K\u001b[F\u001b[K\u001b[F\u001b[K\u001b[F \u001b[1mIters\u001b[0m    \u001b[1mElapsed Time\u001b[0m      \u001b[1mSpeed\u001b[0m    \u001b[1mepoch\u001b[0m   \u001b[1mloss\u001b[0m                               \n",
      " \u001b[99m19/\u001b[93m70\u001b[0m\u001b[0m  \u001b[99m00:42:39<\u001b[93m01:54:29\u001b[0m\u001b[0m  \u001b[99m0.01it/s\u001b[0m  \u001b[99m19/70\u001b[0m  \u001b[99m0.03996\u001b[0m                             \n",
      " \u001b[1mloss_a\u001b[0m                                                                         \n",
      " \u001b[99m0.03912\u001b[0m                                                                        \n",
      "\u001b[1mDescription\u001b[0m  27.1% |\u001b[97m█\u001b[0m\u001b[97m█\u001b[0m\u001b[97m█\u001b[0m\u001b[97m█\u001b[0m\u001b[97m█\u001b[0m\u001b[97m█\u001b[0m\u001b[97m█\u001b[0m\u001b[97m█\u001b[0m\u001b[97m█\u001b[0m\u001b[97m█\u001b[0m                             |                    \u001b[K\u001b[F\u001b[K\u001b[F\u001b[K\u001b[F\u001b[K\u001b[F \u001b[1mIters\u001b[0m    \u001b[1mElapsed Time\u001b[0m      \u001b[1mSpeed\u001b[0m    \u001b[1mepoch\u001b[0m   \u001b[1mloss\u001b[0m                               \n",
      " \u001b[99m20/\u001b[93m70\u001b[0m\u001b[0m  \u001b[99m00:44:54<\u001b[93m01:52:15\u001b[0m\u001b[0m  \u001b[99m0.01it/s\u001b[0m  \u001b[99m20/70\u001b[0m  \u001b[99m0.03954\u001b[0m                             \n",
      " \u001b[1mloss_a\u001b[0m                                                                         \n",
      " \u001b[99m0.03891\u001b[0m                                                                        \n",
      "\u001b[1mDescription\u001b[0m  28.6% |\u001b[97m█\u001b[0m\u001b[97m█\u001b[0m\u001b[97m█\u001b[0m\u001b[97m█\u001b[0m\u001b[97m█\u001b[0m\u001b[97m█\u001b[0m\u001b[97m█\u001b[0m\u001b[97m█\u001b[0m\u001b[97m█\u001b[0m\u001b[97m█\u001b[0m\u001b[97m█\u001b[0m                            |                    \u001b[K\u001b[F\u001b[K\u001b[F\u001b[K\u001b[F\u001b[K\u001b[F \u001b[1mIters\u001b[0m    \u001b[1mElapsed Time\u001b[0m      \u001b[1mSpeed\u001b[0m    \u001b[1mepoch\u001b[0m   \u001b[1mloss\u001b[0m                               \n",
      " \u001b[99m21/\u001b[93m70\u001b[0m\u001b[0m  \u001b[99m00:47:09<\u001b[93m01:50:01\u001b[0m\u001b[0m  \u001b[99m0.01it/s\u001b[0m  \u001b[99m21/70\u001b[0m  \u001b[99m0.03968\u001b[0m                             \n",
      " \u001b[1mloss_a\u001b[0m                                                                         \n",
      " \u001b[99m0.03995\u001b[0m                                                                        \n",
      "\u001b[1mDescription\u001b[0m  30.0% |\u001b[97m█\u001b[0m\u001b[97m█\u001b[0m\u001b[97m█\u001b[0m\u001b[97m█\u001b[0m\u001b[97m█\u001b[0m\u001b[97m█\u001b[0m\u001b[97m█\u001b[0m\u001b[97m█\u001b[0m\u001b[97m█\u001b[0m\u001b[97m█\u001b[0m\u001b[97m█\u001b[0m                            |                    \u001b[K\u001b[F\u001b[K\u001b[F\u001b[K\u001b[F\u001b[K\u001b[F \u001b[1mIters\u001b[0m    \u001b[1mElapsed Time\u001b[0m      \u001b[1mSpeed\u001b[0m    \u001b[1mepoch\u001b[0m   \u001b[1mloss\u001b[0m                               \n",
      " \u001b[99m22/\u001b[93m70\u001b[0m\u001b[0m  \u001b[99m00:49:24<\u001b[93m01:47:47\u001b[0m\u001b[0m  \u001b[99m0.01it/s\u001b[0m  \u001b[99m22/70\u001b[0m  \u001b[99m0.03938\u001b[0m                             \n",
      " \u001b[1mloss_a\u001b[0m                                                                         \n",
      " \u001b[99m0.03890\u001b[0m                                                                        \n",
      "\u001b[1mDescription\u001b[0m  31.4% |\u001b[97m█\u001b[0m\u001b[97m█\u001b[0m\u001b[97m█\u001b[0m\u001b[97m█\u001b[0m\u001b[97m█\u001b[0m\u001b[97m█\u001b[0m\u001b[97m█\u001b[0m\u001b[97m█\u001b[0m\u001b[97m█\u001b[0m\u001b[97m█\u001b[0m\u001b[97m█\u001b[0m\u001b[97m█\u001b[0m                           |                    \u001b[K\u001b[F\u001b[K\u001b[F\u001b[K\u001b[F\u001b[K\u001b[F \u001b[1mIters\u001b[0m    \u001b[1mElapsed Time\u001b[0m      \u001b[1mSpeed\u001b[0m    \u001b[1mepoch\u001b[0m   \u001b[1mloss\u001b[0m                               \n",
      " \u001b[99m23/\u001b[93m70\u001b[0m\u001b[0m  \u001b[99m00:51:38<\u001b[93m01:45:32\u001b[0m\u001b[0m  \u001b[99m0.01it/s\u001b[0m  \u001b[99m23/70\u001b[0m  \u001b[99m0.03906\u001b[0m                             \n",
      " \u001b[1mloss_a\u001b[0m                                                                         \n",
      " \u001b[99m0.03925\u001b[0m                                                                        \n",
      "\u001b[1mDescription\u001b[0m  32.9% |\u001b[97m█\u001b[0m\u001b[97m█\u001b[0m\u001b[97m█\u001b[0m\u001b[97m█\u001b[0m\u001b[97m█\u001b[0m\u001b[97m█\u001b[0m\u001b[97m█\u001b[0m\u001b[97m█\u001b[0m\u001b[97m█\u001b[0m\u001b[97m█\u001b[0m\u001b[97m█\u001b[0m\u001b[97m█\u001b[0m                           |                    \u001b[K\u001b[F\u001b[K\u001b[F\u001b[K\u001b[F\u001b[K\u001b[F \u001b[1mIters\u001b[0m    \u001b[1mElapsed Time\u001b[0m      \u001b[1mSpeed\u001b[0m    \u001b[1mepoch\u001b[0m   \u001b[1mloss\u001b[0m                               \n",
      " \u001b[99m24/\u001b[93m70\u001b[0m\u001b[0m  \u001b[99m00:53:53<\u001b[93m01:43:18\u001b[0m\u001b[0m  \u001b[99m0.01it/s\u001b[0m  \u001b[99m24/70\u001b[0m  \u001b[99m0.03898\u001b[0m                             \n",
      " \u001b[1mloss_a\u001b[0m                                                                         \n",
      " \u001b[99m0.03911\u001b[0m                                                                        \n",
      "\u001b[1mDescription\u001b[0m  34.3% |\u001b[97m█\u001b[0m\u001b[97m█\u001b[0m\u001b[97m█\u001b[0m\u001b[97m█\u001b[0m\u001b[97m█\u001b[0m\u001b[97m█\u001b[0m\u001b[97m█\u001b[0m\u001b[97m█\u001b[0m\u001b[97m█\u001b[0m\u001b[97m█\u001b[0m\u001b[97m█\u001b[0m\u001b[97m█\u001b[0m\u001b[97m█\u001b[0m                          |                    \u001b[K\u001b[F\u001b[K\u001b[F\u001b[K\u001b[F\u001b[K\u001b[F \u001b[1mIters\u001b[0m    \u001b[1mElapsed Time\u001b[0m      \u001b[1mSpeed\u001b[0m    \u001b[1mepoch\u001b[0m   \u001b[1mloss\u001b[0m                               \n",
      " \u001b[99m25/\u001b[93m70\u001b[0m\u001b[0m  \u001b[99m00:56:08<\u001b[93m01:41:03\u001b[0m\u001b[0m  \u001b[99m0.01it/s\u001b[0m  \u001b[99m25/70\u001b[0m  \u001b[99m0.03877\u001b[0m                             \n",
      " \u001b[1mloss_a\u001b[0m                                                                         \n",
      " \u001b[99m0.03941\u001b[0m                                                                        \n",
      "\u001b[1mDescription\u001b[0m  35.7% |\u001b[97m█\u001b[0m\u001b[97m█\u001b[0m\u001b[97m█\u001b[0m\u001b[97m█\u001b[0m\u001b[97m█\u001b[0m\u001b[97m█\u001b[0m\u001b[97m█\u001b[0m\u001b[97m█\u001b[0m\u001b[97m█\u001b[0m\u001b[97m█\u001b[0m\u001b[97m█\u001b[0m\u001b[97m█\u001b[0m\u001b[97m█\u001b[0m                          |                    \u001b[K\u001b[F\u001b[K\u001b[F\u001b[K\u001b[F\u001b[K\u001b[F \u001b[1mIters\u001b[0m    \u001b[1mElapsed Time\u001b[0m      \u001b[1mSpeed\u001b[0m    \u001b[1mepoch\u001b[0m   \u001b[1mloss\u001b[0m                               \n",
      " \u001b[99m26/\u001b[93m70\u001b[0m\u001b[0m  \u001b[99m00:58:23<\u001b[93m01:38:49\u001b[0m\u001b[0m  \u001b[99m0.01it/s\u001b[0m  \u001b[99m26/70\u001b[0m  \u001b[99m0.03867\u001b[0m                             \n",
      " \u001b[1mloss_a\u001b[0m                                                                         \n",
      " \u001b[99m0.03899\u001b[0m                                                                        \n",
      "\u001b[1mDescription\u001b[0m  37.1% |\u001b[97m█\u001b[0m\u001b[97m█\u001b[0m\u001b[97m█\u001b[0m\u001b[97m█\u001b[0m\u001b[97m█\u001b[0m\u001b[97m█\u001b[0m\u001b[97m█\u001b[0m\u001b[97m█\u001b[0m\u001b[97m█\u001b[0m\u001b[97m█\u001b[0m\u001b[97m█\u001b[0m\u001b[97m█\u001b[0m\u001b[97m█\u001b[0m\u001b[97m█\u001b[0m                         |                    \u001b[K\u001b[F\u001b[K\u001b[F\u001b[K\u001b[F\u001b[K\u001b[F \u001b[1mIters\u001b[0m    \u001b[1mElapsed Time\u001b[0m      \u001b[1mSpeed\u001b[0m    \u001b[1mepoch\u001b[0m   \u001b[1mloss\u001b[0m                               \n",
      " \u001b[99m27/\u001b[93m70\u001b[0m\u001b[0m  \u001b[99m01:00:38<\u001b[93m01:36:34\u001b[0m\u001b[0m  \u001b[99m0.01it/s\u001b[0m  \u001b[99m27/70\u001b[0m  \u001b[99m0.03862\u001b[0m                             \n",
      " \u001b[1mloss_a\u001b[0m                                                                         \n",
      " \u001b[99m0.03938\u001b[0m                                                                        \n",
      "\u001b[1mDescription\u001b[0m  38.6% |\u001b[97m█\u001b[0m\u001b[97m█\u001b[0m\u001b[97m█\u001b[0m\u001b[97m█\u001b[0m\u001b[97m█\u001b[0m\u001b[97m█\u001b[0m\u001b[97m█\u001b[0m\u001b[97m█\u001b[0m\u001b[97m█\u001b[0m\u001b[97m█\u001b[0m\u001b[97m█\u001b[0m\u001b[97m█\u001b[0m\u001b[97m█\u001b[0m\u001b[97m█\u001b[0m\u001b[97m█\u001b[0m                        |                    \u001b[K\u001b[F\u001b[K\u001b[F\u001b[K\u001b[F\u001b[K\u001b[F \u001b[1mIters\u001b[0m    \u001b[1mElapsed Time\u001b[0m      \u001b[1mSpeed\u001b[0m    \u001b[1mepoch\u001b[0m   \u001b[1mloss\u001b[0m                               \n",
      " \u001b[99m28/\u001b[93m70\u001b[0m\u001b[0m  \u001b[99m01:02:53<\u001b[93m01:34:20\u001b[0m\u001b[0m  \u001b[99m0.01it/s\u001b[0m  \u001b[99m28/70\u001b[0m  \u001b[99m0.03843\u001b[0m                             \n",
      " \u001b[1mloss_a\u001b[0m                                                                         \n",
      " \u001b[99m0.03921\u001b[0m                                                                        \n",
      "\u001b[1mDescription\u001b[0m  40.0% |\u001b[97m█\u001b[0m\u001b[97m█\u001b[0m\u001b[97m█\u001b[0m\u001b[97m█\u001b[0m\u001b[97m█\u001b[0m\u001b[97m█\u001b[0m\u001b[97m█\u001b[0m\u001b[97m█\u001b[0m\u001b[97m█\u001b[0m\u001b[97m█\u001b[0m\u001b[97m█\u001b[0m\u001b[97m█\u001b[0m\u001b[97m█\u001b[0m\u001b[97m█\u001b[0m\u001b[97m█\u001b[0m                        |                    \u001b[K\u001b[F\u001b[K\u001b[F\u001b[K\u001b[F\u001b[K\u001b[F \u001b[1mIters\u001b[0m    \u001b[1mElapsed Time\u001b[0m      \u001b[1mSpeed\u001b[0m    \u001b[1mepoch\u001b[0m   \u001b[1mloss\u001b[0m                               \n",
      " \u001b[99m29/\u001b[93m70\u001b[0m\u001b[0m  \u001b[99m01:05:07<\u001b[93m01:32:05\u001b[0m\u001b[0m  \u001b[99m0.01it/s\u001b[0m  \u001b[99m29/70\u001b[0m  \u001b[99m0.03841\u001b[0m                             \n",
      " \u001b[1mloss_a\u001b[0m                                                                         \n",
      " \u001b[99m0.03957\u001b[0m                                                                        \n",
      "\u001b[1mDescription\u001b[0m  41.4% |\u001b[97m█\u001b[0m\u001b[97m█\u001b[0m\u001b[97m█\u001b[0m\u001b[97m█\u001b[0m\u001b[97m█\u001b[0m\u001b[97m█\u001b[0m\u001b[97m█\u001b[0m\u001b[97m█\u001b[0m\u001b[97m█\u001b[0m\u001b[97m█\u001b[0m\u001b[97m█\u001b[0m\u001b[97m█\u001b[0m\u001b[97m█\u001b[0m\u001b[97m█\u001b[0m\u001b[97m█\u001b[0m\u001b[97m█\u001b[0m                       |                    \u001b[K\u001b[F\u001b[K\u001b[F\u001b[K\u001b[F\u001b[K\u001b[F \u001b[1mIters\u001b[0m    \u001b[1mElapsed Time\u001b[0m      \u001b[1mSpeed\u001b[0m    \u001b[1mepoch\u001b[0m   \u001b[1mloss\u001b[0m                               \n",
      " \u001b[99m30/\u001b[93m70\u001b[0m\u001b[0m  \u001b[99m01:07:22<\u001b[93m01:29:50\u001b[0m\u001b[0m  \u001b[99m0.01it/s\u001b[0m  \u001b[99m30/70\u001b[0m  \u001b[99m0.03827\u001b[0m                             \n",
      " \u001b[1mloss_a\u001b[0m                                                                         \n",
      " \u001b[99m0.03998\u001b[0m                                                                        \n",
      "\u001b[1mDescription\u001b[0m  42.9% |\u001b[97m█\u001b[0m\u001b[97m█\u001b[0m\u001b[97m█\u001b[0m\u001b[97m█\u001b[0m\u001b[97m█\u001b[0m\u001b[97m█\u001b[0m\u001b[97m█\u001b[0m\u001b[97m█\u001b[0m\u001b[97m█\u001b[0m\u001b[97m█\u001b[0m\u001b[97m█\u001b[0m\u001b[97m█\u001b[0m\u001b[97m█\u001b[0m\u001b[97m█\u001b[0m\u001b[97m█\u001b[0m\u001b[97m█\u001b[0m                       |                    \u001b[K\u001b[F\u001b[K\u001b[F\u001b[K\u001b[F\u001b[K\u001b[F \u001b[1mIters\u001b[0m    \u001b[1mElapsed Time\u001b[0m      \u001b[1mSpeed\u001b[0m    \u001b[1mepoch\u001b[0m   \u001b[1mloss\u001b[0m                               \n",
      " \u001b[99m31/\u001b[93m70\u001b[0m\u001b[0m  \u001b[99m01:09:36<\u001b[93m01:27:34\u001b[0m\u001b[0m  \u001b[99m0.01it/s\u001b[0m  \u001b[99m31/70\u001b[0m  \u001b[99m0.03813\u001b[0m                             \n",
      " \u001b[1mloss_a\u001b[0m                                                                         \n",
      " \u001b[99m0.03920\u001b[0m                                                                        \n",
      "\u001b[1mDescription\u001b[0m  44.3% |\u001b[97m█\u001b[0m\u001b[97m█\u001b[0m\u001b[97m█\u001b[0m\u001b[97m█\u001b[0m\u001b[97m█\u001b[0m\u001b[97m█\u001b[0m\u001b[97m█\u001b[0m\u001b[97m█\u001b[0m\u001b[97m█\u001b[0m\u001b[97m█\u001b[0m\u001b[97m█\u001b[0m\u001b[97m█\u001b[0m\u001b[97m█\u001b[0m\u001b[97m█\u001b[0m\u001b[97m█\u001b[0m\u001b[97m█\u001b[0m\u001b[97m█\u001b[0m                      |                    \u001b[K\u001b[F\u001b[K\u001b[F\u001b[K\u001b[F\u001b[K\u001b[F \u001b[1mIters\u001b[0m    \u001b[1mElapsed Time\u001b[0m      \u001b[1mSpeed\u001b[0m    \u001b[1mepoch\u001b[0m   \u001b[1mloss\u001b[0m                               \n",
      " \u001b[99m32/\u001b[93m70\u001b[0m\u001b[0m  \u001b[99m01:11:51<\u001b[93m01:25:19\u001b[0m\u001b[0m  \u001b[99m0.01it/s\u001b[0m  \u001b[99m32/70\u001b[0m  \u001b[99m0.03803\u001b[0m                             \n",
      " \u001b[1mloss_a\u001b[0m                                                                         \n",
      " \u001b[99m0.03952\u001b[0m                                                                        \n",
      "\u001b[1mDescription\u001b[0m  45.7% |\u001b[97m█\u001b[0m\u001b[97m█\u001b[0m\u001b[97m█\u001b[0m\u001b[97m█\u001b[0m\u001b[97m█\u001b[0m\u001b[97m█\u001b[0m\u001b[97m█\u001b[0m\u001b[97m█\u001b[0m\u001b[97m█\u001b[0m\u001b[97m█\u001b[0m\u001b[97m█\u001b[0m\u001b[97m█\u001b[0m\u001b[97m█\u001b[0m\u001b[97m█\u001b[0m\u001b[97m█\u001b[0m\u001b[97m█\u001b[0m\u001b[97m█\u001b[0m                      |                    \u001b[K\u001b[F\u001b[K\u001b[F\u001b[K\u001b[F\u001b[K\u001b[F \u001b[1mIters\u001b[0m    \u001b[1mElapsed Time\u001b[0m      \u001b[1mSpeed\u001b[0m    \u001b[1mepoch\u001b[0m   \u001b[1mloss\u001b[0m                               \n",
      " \u001b[99m33/\u001b[93m70\u001b[0m\u001b[0m  \u001b[99m01:14:05<\u001b[93m01:23:04\u001b[0m\u001b[0m  \u001b[99m0.01it/s\u001b[0m  \u001b[99m33/70\u001b[0m  \u001b[99m0.03828\u001b[0m                             \n",
      " \u001b[1mloss_a\u001b[0m                                                                         \n",
      " \u001b[99m0.04011\u001b[0m                                                                        \n",
      "\u001b[1mDescription\u001b[0m  47.1% |\u001b[97m█\u001b[0m\u001b[97m█\u001b[0m\u001b[97m█\u001b[0m\u001b[97m█\u001b[0m\u001b[97m█\u001b[0m\u001b[97m█\u001b[0m\u001b[97m█\u001b[0m\u001b[97m█\u001b[0m\u001b[97m█\u001b[0m\u001b[97m█\u001b[0m\u001b[97m█\u001b[0m\u001b[97m█\u001b[0m\u001b[97m█\u001b[0m\u001b[97m█\u001b[0m\u001b[97m█\u001b[0m\u001b[97m█\u001b[0m\u001b[97m█\u001b[0m\u001b[97m█\u001b[0m                     |                    \u001b[K\u001b[F\u001b[K\u001b[F\u001b[K\u001b[F\u001b[K\u001b[F \u001b[1mIters\u001b[0m    \u001b[1mElapsed Time\u001b[0m      \u001b[1mSpeed\u001b[0m    \u001b[1mepoch\u001b[0m   \u001b[1mloss\u001b[0m                               \n",
      " \u001b[99m34/\u001b[93m70\u001b[0m\u001b[0m  \u001b[99m01:16:19<\u001b[93m01:20:49\u001b[0m\u001b[0m  \u001b[99m0.01it/s\u001b[0m  \u001b[99m34/70\u001b[0m  \u001b[99m0.03795\u001b[0m                             \n",
      " \u001b[1mloss_a\u001b[0m                                                                         \n",
      " \u001b[99m0.03912\u001b[0m                                                                        \n",
      "\u001b[1mDescription\u001b[0m  48.6% |\u001b[97m█\u001b[0m\u001b[97m█\u001b[0m\u001b[97m█\u001b[0m\u001b[97m█\u001b[0m\u001b[97m█\u001b[0m\u001b[97m█\u001b[0m\u001b[97m█\u001b[0m\u001b[97m█\u001b[0m\u001b[97m█\u001b[0m\u001b[97m█\u001b[0m\u001b[97m█\u001b[0m\u001b[97m█\u001b[0m\u001b[97m█\u001b[0m\u001b[97m█\u001b[0m\u001b[97m█\u001b[0m\u001b[97m█\u001b[0m\u001b[97m█\u001b[0m\u001b[97m█\u001b[0m                     |                    \u001b[K\u001b[F\u001b[K\u001b[F\u001b[K\u001b[F\u001b[K\u001b[F \u001b[1mIters\u001b[0m    \u001b[1mElapsed Time\u001b[0m      \u001b[1mSpeed\u001b[0m    \u001b[1mepoch\u001b[0m   \u001b[1mloss\u001b[0m                               \n",
      " \u001b[99m35/\u001b[93m70\u001b[0m\u001b[0m  \u001b[99m01:18:33<\u001b[93m01:18:33\u001b[0m\u001b[0m  \u001b[99m0.01it/s\u001b[0m  \u001b[99m35/70\u001b[0m  \u001b[99m0.03780\u001b[0m                             \n",
      " \u001b[1mloss_a\u001b[0m                                                                         \n",
      " \u001b[99m0.03925\u001b[0m                                                                        \n",
      "\u001b[1mDescription\u001b[0m  50.0% |\u001b[97m█\u001b[0m\u001b[97m█\u001b[0m\u001b[97m█\u001b[0m\u001b[97m█\u001b[0m\u001b[97m█\u001b[0m\u001b[97m█\u001b[0m\u001b[97m█\u001b[0m\u001b[97m█\u001b[0m\u001b[97m█\u001b[0m\u001b[97m█\u001b[0m\u001b[97m█\u001b[0m\u001b[97m█\u001b[0m\u001b[97m█\u001b[0m\u001b[97m█\u001b[0m\u001b[97m█\u001b[0m\u001b[97m█\u001b[0m\u001b[97m█\u001b[0m\u001b[97m█\u001b[0m\u001b[97m█\u001b[0m                    |                    \u001b[K\u001b[F\u001b[K\u001b[F\u001b[K\u001b[F\u001b[K\u001b[F \u001b[1mIters\u001b[0m    \u001b[1mElapsed Time\u001b[0m      \u001b[1mSpeed\u001b[0m    \u001b[1mepoch\u001b[0m   \u001b[1mloss\u001b[0m                               \n",
      " \u001b[99m36/\u001b[93m70\u001b[0m\u001b[0m  \u001b[99m01:20:47<\u001b[93m01:16:18\u001b[0m\u001b[0m  \u001b[99m0.01it/s\u001b[0m  \u001b[99m36/70\u001b[0m  \u001b[99m0.03784\u001b[0m                             \n",
      " \u001b[1mloss_a\u001b[0m                                                                         \n",
      " \u001b[99m0.03946\u001b[0m                                                                        \n",
      "\u001b[1mDescription\u001b[0m  51.4% |\u001b[97m█\u001b[0m\u001b[97m█\u001b[0m\u001b[97m█\u001b[0m\u001b[97m█\u001b[0m\u001b[97m█\u001b[0m\u001b[97m█\u001b[0m\u001b[97m█\u001b[0m\u001b[97m█\u001b[0m\u001b[97m█\u001b[0m\u001b[97m█\u001b[0m\u001b[97m█\u001b[0m\u001b[97m█\u001b[0m\u001b[97m█\u001b[0m\u001b[97m█\u001b[0m\u001b[97m█\u001b[0m\u001b[97m█\u001b[0m\u001b[97m█\u001b[0m\u001b[97m█\u001b[0m\u001b[97m█\u001b[0m\u001b[97m█\u001b[0m                   |                    \u001b[K\u001b[F\u001b[K\u001b[F\u001b[K\u001b[F\u001b[K\u001b[F \u001b[1mIters\u001b[0m    \u001b[1mElapsed Time\u001b[0m      \u001b[1mSpeed\u001b[0m    \u001b[1mepoch\u001b[0m   \u001b[1mloss\u001b[0m                               \n",
      " \u001b[99m37/\u001b[93m70\u001b[0m\u001b[0m  \u001b[99m01:23:01<\u001b[93m01:14:03\u001b[0m\u001b[0m  \u001b[99m0.01it/s\u001b[0m  \u001b[99m37/70\u001b[0m  \u001b[99m0.03768\u001b[0m                             \n",
      " \u001b[1mloss_a\u001b[0m                                                                         \n",
      " \u001b[99m0.03948\u001b[0m                                                                        \n",
      "\u001b[1mDescription\u001b[0m  52.9% |\u001b[97m█\u001b[0m\u001b[97m█\u001b[0m\u001b[97m█\u001b[0m\u001b[97m█\u001b[0m\u001b[97m█\u001b[0m\u001b[97m█\u001b[0m\u001b[97m█\u001b[0m\u001b[97m█\u001b[0m\u001b[97m█\u001b[0m\u001b[97m█\u001b[0m\u001b[97m█\u001b[0m\u001b[97m█\u001b[0m\u001b[97m█\u001b[0m\u001b[97m█\u001b[0m\u001b[97m█\u001b[0m\u001b[97m█\u001b[0m\u001b[97m█\u001b[0m\u001b[97m█\u001b[0m\u001b[97m█\u001b[0m\u001b[97m█\u001b[0m                   |                    \u001b[K\u001b[F\u001b[K\u001b[F\u001b[K\u001b[F\u001b[K\u001b[F \u001b[1mIters\u001b[0m    \u001b[1mElapsed Time\u001b[0m      \u001b[1mSpeed\u001b[0m    \u001b[1mepoch\u001b[0m   \u001b[1mloss\u001b[0m                               \n",
      " \u001b[99m38/\u001b[93m70\u001b[0m\u001b[0m  \u001b[99m01:25:16<\u001b[93m01:11:48\u001b[0m\u001b[0m  \u001b[99m0.01it/s\u001b[0m  \u001b[99m38/70\u001b[0m  \u001b[99m0.03775\u001b[0m                             \n",
      " \u001b[1mloss_a\u001b[0m                                                                         \n",
      " \u001b[99m0.03968\u001b[0m                                                                        \n",
      "\u001b[1mDescription\u001b[0m  54.3% |\u001b[97m█\u001b[0m\u001b[97m█\u001b[0m\u001b[97m█\u001b[0m\u001b[97m█\u001b[0m\u001b[97m█\u001b[0m\u001b[97m█\u001b[0m\u001b[97m█\u001b[0m\u001b[97m█\u001b[0m\u001b[97m█\u001b[0m\u001b[97m█\u001b[0m\u001b[97m█\u001b[0m\u001b[97m█\u001b[0m\u001b[97m█\u001b[0m\u001b[97m█\u001b[0m\u001b[97m█\u001b[0m\u001b[97m█\u001b[0m\u001b[97m█\u001b[0m\u001b[97m█\u001b[0m\u001b[97m█\u001b[0m\u001b[97m█\u001b[0m\u001b[97m█\u001b[0m                  |                    \u001b[K\u001b[F\u001b[K\u001b[F\u001b[K\u001b[F\u001b[K\u001b[F \u001b[1mIters\u001b[0m    \u001b[1mElapsed Time\u001b[0m      \u001b[1mSpeed\u001b[0m    \u001b[1mepoch\u001b[0m   \u001b[1mloss\u001b[0m                               \n",
      " \u001b[99m39/\u001b[93m70\u001b[0m\u001b[0m  \u001b[99m01:27:31<\u001b[93m01:09:33\u001b[0m\u001b[0m  \u001b[99m0.01it/s\u001b[0m  \u001b[99m39/70\u001b[0m  \u001b[99m0.03758\u001b[0m                             \n",
      " \u001b[1mloss_a\u001b[0m                                                                         \n",
      " \u001b[99m0.04005\u001b[0m                                                                        \n",
      "\u001b[1mDescription\u001b[0m  55.7% |\u001b[97m█\u001b[0m\u001b[97m█\u001b[0m\u001b[97m█\u001b[0m\u001b[97m█\u001b[0m\u001b[97m█\u001b[0m\u001b[97m█\u001b[0m\u001b[97m█\u001b[0m\u001b[97m█\u001b[0m\u001b[97m█\u001b[0m\u001b[97m█\u001b[0m\u001b[97m█\u001b[0m\u001b[97m█\u001b[0m\u001b[97m█\u001b[0m\u001b[97m█\u001b[0m\u001b[97m█\u001b[0m\u001b[97m█\u001b[0m\u001b[97m█\u001b[0m\u001b[97m█\u001b[0m\u001b[97m█\u001b[0m\u001b[97m█\u001b[0m\u001b[97m█\u001b[0m                  |                    \u001b[K\u001b[F\u001b[K\u001b[F\u001b[K\u001b[F\u001b[K\u001b[F \u001b[1mIters\u001b[0m    \u001b[1mElapsed Time\u001b[0m      \u001b[1mSpeed\u001b[0m    \u001b[1mepoch\u001b[0m   \u001b[1mloss\u001b[0m                               \n",
      " \u001b[99m40/\u001b[93m70\u001b[0m\u001b[0m  \u001b[99m01:29:45<\u001b[93m01:07:18\u001b[0m\u001b[0m  \u001b[99m0.01it/s\u001b[0m  \u001b[99m40/70\u001b[0m  \u001b[99m0.03746\u001b[0m                             \n",
      " \u001b[1mloss_a\u001b[0m                                                                         \n",
      " \u001b[99m0.03971\u001b[0m                                                                        \n",
      "\u001b[1mDescription\u001b[0m  57.1% |\u001b[97m█\u001b[0m\u001b[97m█\u001b[0m\u001b[97m█\u001b[0m\u001b[97m█\u001b[0m\u001b[97m█\u001b[0m\u001b[97m█\u001b[0m\u001b[97m█\u001b[0m\u001b[97m█\u001b[0m\u001b[97m█\u001b[0m\u001b[97m█\u001b[0m\u001b[97m█\u001b[0m\u001b[97m█\u001b[0m\u001b[97m█\u001b[0m\u001b[97m█\u001b[0m\u001b[97m█\u001b[0m\u001b[97m█\u001b[0m\u001b[97m█\u001b[0m\u001b[97m█\u001b[0m\u001b[97m█\u001b[0m\u001b[97m█\u001b[0m\u001b[97m█\u001b[0m\u001b[97m█\u001b[0m                 |                    \u001b[K\u001b[F\u001b[K\u001b[F\u001b[K\u001b[F\u001b[K\u001b[F \u001b[1mIters\u001b[0m    \u001b[1mElapsed Time\u001b[0m      \u001b[1mSpeed\u001b[0m    \u001b[1mepoch\u001b[0m   \u001b[1mloss\u001b[0m                               \n",
      " \u001b[99m41/\u001b[93m70\u001b[0m\u001b[0m  \u001b[99m01:31:58<\u001b[93m01:05:03\u001b[0m\u001b[0m  \u001b[99m0.01it/s\u001b[0m  \u001b[99m41/70\u001b[0m  \u001b[99m0.03745\u001b[0m                             \n",
      " \u001b[1mloss_a\u001b[0m                                                                         \n",
      " \u001b[99m0.04009\u001b[0m                                                                        \n",
      "\u001b[1mDescription\u001b[0m  58.6% |\u001b[97m█\u001b[0m\u001b[97m█\u001b[0m\u001b[97m█\u001b[0m\u001b[97m█\u001b[0m\u001b[97m█\u001b[0m\u001b[97m█\u001b[0m\u001b[97m█\u001b[0m\u001b[97m█\u001b[0m\u001b[97m█\u001b[0m\u001b[97m█\u001b[0m\u001b[97m█\u001b[0m\u001b[97m█\u001b[0m\u001b[97m█\u001b[0m\u001b[97m█\u001b[0m\u001b[97m█\u001b[0m\u001b[97m█\u001b[0m\u001b[97m█\u001b[0m\u001b[97m█\u001b[0m\u001b[97m█\u001b[0m\u001b[97m█\u001b[0m\u001b[97m█\u001b[0m\u001b[97m█\u001b[0m                 |                    \u001b[K\u001b[F\u001b[K\u001b[F\u001b[K\u001b[F\u001b[K\u001b[F \u001b[1mIters\u001b[0m    \u001b[1mElapsed Time\u001b[0m      \u001b[1mSpeed\u001b[0m    \u001b[1mepoch\u001b[0m   \u001b[1mloss\u001b[0m                               \n",
      " \u001b[99m42/\u001b[93m70\u001b[0m\u001b[0m  \u001b[99m01:34:12<\u001b[93m01:02:48\u001b[0m\u001b[0m  \u001b[99m0.01it/s\u001b[0m  \u001b[99m42/70\u001b[0m  \u001b[99m0.03729\u001b[0m                             \n",
      " \u001b[1mloss_a\u001b[0m                                                                         \n",
      " \u001b[99m0.03992\u001b[0m                                                                        \n",
      "\u001b[1mDescription\u001b[0m  60.0% |\u001b[97m█\u001b[0m\u001b[97m█\u001b[0m\u001b[97m█\u001b[0m\u001b[97m█\u001b[0m\u001b[97m█\u001b[0m\u001b[97m█\u001b[0m\u001b[97m█\u001b[0m\u001b[97m█\u001b[0m\u001b[97m█\u001b[0m\u001b[97m█\u001b[0m\u001b[97m█\u001b[0m\u001b[97m█\u001b[0m\u001b[97m█\u001b[0m\u001b[97m█\u001b[0m\u001b[97m█\u001b[0m\u001b[97m█\u001b[0m\u001b[97m█\u001b[0m\u001b[97m█\u001b[0m\u001b[97m█\u001b[0m\u001b[97m█\u001b[0m\u001b[97m█\u001b[0m\u001b[97m█\u001b[0m\u001b[97m█\u001b[0m                |                    \u001b[K\u001b[F\u001b[K\u001b[F\u001b[K\u001b[F\u001b[K\u001b[F \u001b[1mIters\u001b[0m    \u001b[1mElapsed Time\u001b[0m      \u001b[1mSpeed\u001b[0m    \u001b[1mepoch\u001b[0m   \u001b[1mloss\u001b[0m                               \n",
      " \u001b[99m43/\u001b[93m70\u001b[0m\u001b[0m  \u001b[99m01:36:27<\u001b[93m01:00:33\u001b[0m\u001b[0m  \u001b[99m0.01it/s\u001b[0m  \u001b[99m43/70\u001b[0m  \u001b[99m0.03724\u001b[0m                             \n",
      " \u001b[1mloss_a\u001b[0m                                                                         \n",
      " \u001b[99m0.04020\u001b[0m                                                                        \n",
      "\u001b[1mDescription\u001b[0m  61.4% |\u001b[97m█\u001b[0m\u001b[97m█\u001b[0m\u001b[97m█\u001b[0m\u001b[97m█\u001b[0m\u001b[97m█\u001b[0m\u001b[97m█\u001b[0m\u001b[97m█\u001b[0m\u001b[97m█\u001b[0m\u001b[97m█\u001b[0m\u001b[97m█\u001b[0m\u001b[97m█\u001b[0m\u001b[97m█\u001b[0m\u001b[97m█\u001b[0m\u001b[97m█\u001b[0m\u001b[97m█\u001b[0m\u001b[97m█\u001b[0m\u001b[97m█\u001b[0m\u001b[97m█\u001b[0m\u001b[97m█\u001b[0m\u001b[97m█\u001b[0m\u001b[97m█\u001b[0m\u001b[97m█\u001b[0m\u001b[97m█\u001b[0m                |                    \u001b[K\u001b[F\u001b[K\u001b[F\u001b[K\u001b[F\u001b[K\u001b[F \u001b[1mIters\u001b[0m    \u001b[1mElapsed Time\u001b[0m      \u001b[1mSpeed\u001b[0m    \u001b[1mepoch\u001b[0m   \u001b[1mloss\u001b[0m                               \n",
      " \u001b[99m44/\u001b[93m70\u001b[0m\u001b[0m  \u001b[99m01:38:41<\u001b[93m00:58:19\u001b[0m\u001b[0m  \u001b[99m0.01it/s\u001b[0m  \u001b[99m44/70\u001b[0m  \u001b[99m0.03715\u001b[0m                             \n",
      " \u001b[1mloss_a\u001b[0m                                                                         \n",
      " \u001b[99m0.03982\u001b[0m                                                                        \n",
      "\u001b[1mDescription\u001b[0m  62.9% |\u001b[97m█\u001b[0m\u001b[97m█\u001b[0m\u001b[97m█\u001b[0m\u001b[97m█\u001b[0m\u001b[97m█\u001b[0m\u001b[97m█\u001b[0m\u001b[97m█\u001b[0m\u001b[97m█\u001b[0m\u001b[97m█\u001b[0m\u001b[97m█\u001b[0m\u001b[97m█\u001b[0m\u001b[97m█\u001b[0m\u001b[97m█\u001b[0m\u001b[97m█\u001b[0m\u001b[97m█\u001b[0m\u001b[97m█\u001b[0m\u001b[97m█\u001b[0m\u001b[97m█\u001b[0m\u001b[97m█\u001b[0m\u001b[97m█\u001b[0m\u001b[97m█\u001b[0m\u001b[97m█\u001b[0m\u001b[97m█\u001b[0m\u001b[97m█\u001b[0m               |                    \u001b[K\u001b[F\u001b[K\u001b[F\u001b[K\u001b[F\u001b[K\u001b[F \u001b[1mIters\u001b[0m    \u001b[1mElapsed Time\u001b[0m      \u001b[1mSpeed\u001b[0m    \u001b[1mepoch\u001b[0m   \u001b[1mloss\u001b[0m                               \n",
      " \u001b[99m45/\u001b[93m70\u001b[0m\u001b[0m  \u001b[99m01:40:55<\u001b[93m00:56:04\u001b[0m\u001b[0m  \u001b[99m0.01it/s\u001b[0m  \u001b[99m45/70\u001b[0m  \u001b[99m0.03713\u001b[0m                             \n",
      " \u001b[1mloss_a\u001b[0m                                                                         \n",
      " \u001b[99m0.04029\u001b[0m                                                                        \n",
      "\u001b[1mDescription\u001b[0m  64.3% |\u001b[97m█\u001b[0m\u001b[97m█\u001b[0m\u001b[97m█\u001b[0m\u001b[97m█\u001b[0m\u001b[97m█\u001b[0m\u001b[97m█\u001b[0m\u001b[97m█\u001b[0m\u001b[97m█\u001b[0m\u001b[97m█\u001b[0m\u001b[97m█\u001b[0m\u001b[97m█\u001b[0m\u001b[97m█\u001b[0m\u001b[97m█\u001b[0m\u001b[97m█\u001b[0m\u001b[97m█\u001b[0m\u001b[97m█\u001b[0m\u001b[97m█\u001b[0m\u001b[97m█\u001b[0m\u001b[97m█\u001b[0m\u001b[97m█\u001b[0m\u001b[97m█\u001b[0m\u001b[97m█\u001b[0m\u001b[97m█\u001b[0m\u001b[97m█\u001b[0m\u001b[97m█\u001b[0m              |                    \u001b[K\u001b[F\u001b[K\u001b[F\u001b[K\u001b[F\u001b[K\u001b[F \u001b[1mIters\u001b[0m    \u001b[1mElapsed Time\u001b[0m      \u001b[1mSpeed\u001b[0m    \u001b[1mepoch\u001b[0m   \u001b[1mloss\u001b[0m                               \n",
      " \u001b[99m46/\u001b[93m70\u001b[0m\u001b[0m  \u001b[99m01:43:09<\u001b[93m00:53:49\u001b[0m\u001b[0m  \u001b[99m0.01it/s\u001b[0m  \u001b[99m46/70\u001b[0m  \u001b[99m0.03706\u001b[0m                             \n",
      " \u001b[1mloss_a\u001b[0m                                                                         \n",
      " \u001b[99m0.04015\u001b[0m                                                                        \n",
      "\u001b[1mDescription\u001b[0m  65.7% |\u001b[97m█\u001b[0m\u001b[97m█\u001b[0m\u001b[97m█\u001b[0m\u001b[97m█\u001b[0m\u001b[97m█\u001b[0m\u001b[97m█\u001b[0m\u001b[97m█\u001b[0m\u001b[97m█\u001b[0m\u001b[97m█\u001b[0m\u001b[97m█\u001b[0m\u001b[97m█\u001b[0m\u001b[97m█\u001b[0m\u001b[97m█\u001b[0m\u001b[97m█\u001b[0m\u001b[97m█\u001b[0m\u001b[97m█\u001b[0m\u001b[97m█\u001b[0m\u001b[97m█\u001b[0m\u001b[97m█\u001b[0m\u001b[97m█\u001b[0m\u001b[97m█\u001b[0m\u001b[97m█\u001b[0m\u001b[97m█\u001b[0m\u001b[97m█\u001b[0m\u001b[97m█\u001b[0m              |                    \u001b[K\u001b[F\u001b[K\u001b[F\u001b[K\u001b[F\u001b[K\u001b[F \u001b[1mIters\u001b[0m    \u001b[1mElapsed Time\u001b[0m      \u001b[1mSpeed\u001b[0m    \u001b[1mepoch\u001b[0m   \u001b[1mloss\u001b[0m                               \n",
      " \u001b[99m47/\u001b[93m70\u001b[0m\u001b[0m  \u001b[99m01:45:23<\u001b[93m00:51:34\u001b[0m\u001b[0m  \u001b[99m0.01it/s\u001b[0m  \u001b[99m47/70\u001b[0m  \u001b[99m0.03715\u001b[0m                             \n",
      " \u001b[1mloss_a\u001b[0m                                                                         \n",
      " \u001b[99m0.04032\u001b[0m                                                                        \n",
      "\u001b[1mDescription\u001b[0m  67.1% |\u001b[97m█\u001b[0m\u001b[97m█\u001b[0m\u001b[97m█\u001b[0m\u001b[97m█\u001b[0m\u001b[97m█\u001b[0m\u001b[97m█\u001b[0m\u001b[97m█\u001b[0m\u001b[97m█\u001b[0m\u001b[97m█\u001b[0m\u001b[97m█\u001b[0m\u001b[97m█\u001b[0m\u001b[97m█\u001b[0m\u001b[97m█\u001b[0m\u001b[97m█\u001b[0m\u001b[97m█\u001b[0m\u001b[97m█\u001b[0m\u001b[97m█\u001b[0m\u001b[97m█\u001b[0m\u001b[97m█\u001b[0m\u001b[97m█\u001b[0m\u001b[97m█\u001b[0m\u001b[97m█\u001b[0m\u001b[97m█\u001b[0m\u001b[97m█\u001b[0m\u001b[97m█\u001b[0m\u001b[97m█\u001b[0m             |                    \u001b[K\u001b[F\u001b[K\u001b[F\u001b[K\u001b[F\u001b[K\u001b[F \u001b[1mIters\u001b[0m    \u001b[1mElapsed Time\u001b[0m      \u001b[1mSpeed\u001b[0m    \u001b[1mepoch\u001b[0m   \u001b[1mloss\u001b[0m                               \n",
      " \u001b[99m48/\u001b[93m70\u001b[0m\u001b[0m  \u001b[99m01:47:37<\u001b[93m00:49:19\u001b[0m\u001b[0m  \u001b[99m0.01it/s\u001b[0m  \u001b[99m48/70\u001b[0m  \u001b[99m0.03702\u001b[0m                             \n",
      " \u001b[1mloss_a\u001b[0m                                                                         \n",
      " \u001b[99m0.04025\u001b[0m                                                                        \n",
      "\u001b[1mDescription\u001b[0m  68.6% |\u001b[97m█\u001b[0m\u001b[97m█\u001b[0m\u001b[97m█\u001b[0m\u001b[97m█\u001b[0m\u001b[97m█\u001b[0m\u001b[97m█\u001b[0m\u001b[97m█\u001b[0m\u001b[97m█\u001b[0m\u001b[97m█\u001b[0m\u001b[97m█\u001b[0m\u001b[97m█\u001b[0m\u001b[97m█\u001b[0m\u001b[97m█\u001b[0m\u001b[97m█\u001b[0m\u001b[97m█\u001b[0m\u001b[97m█\u001b[0m\u001b[97m█\u001b[0m\u001b[97m█\u001b[0m\u001b[97m█\u001b[0m\u001b[97m█\u001b[0m\u001b[97m█\u001b[0m\u001b[97m█\u001b[0m\u001b[97m█\u001b[0m\u001b[97m█\u001b[0m\u001b[97m█\u001b[0m\u001b[97m█\u001b[0m             |                    \u001b[K\u001b[F\u001b[K\u001b[F\u001b[K\u001b[F\u001b[K\u001b[F \u001b[1mIters\u001b[0m    \u001b[1mElapsed Time\u001b[0m      \u001b[1mSpeed\u001b[0m    \u001b[1mepoch\u001b[0m   \u001b[1mloss\u001b[0m                               \n",
      " \u001b[99m49/\u001b[93m70\u001b[0m\u001b[0m  \u001b[99m01:49:51<\u001b[93m00:47:05\u001b[0m\u001b[0m  \u001b[99m0.01it/s\u001b[0m  \u001b[99m49/70\u001b[0m  \u001b[99m0.03693\u001b[0m                             \n",
      " \u001b[1mloss_a\u001b[0m                                                                         \n",
      " \u001b[99m0.04025\u001b[0m                                                                        \n",
      "\u001b[1mDescription\u001b[0m  70.0% |\u001b[97m█\u001b[0m\u001b[97m█\u001b[0m\u001b[97m█\u001b[0m\u001b[97m█\u001b[0m\u001b[97m█\u001b[0m\u001b[97m█\u001b[0m\u001b[97m█\u001b[0m\u001b[97m█\u001b[0m\u001b[97m█\u001b[0m\u001b[97m█\u001b[0m\u001b[97m█\u001b[0m\u001b[97m█\u001b[0m\u001b[97m█\u001b[0m\u001b[97m█\u001b[0m\u001b[97m█\u001b[0m\u001b[97m█\u001b[0m\u001b[97m█\u001b[0m\u001b[97m█\u001b[0m\u001b[97m█\u001b[0m\u001b[97m█\u001b[0m\u001b[97m█\u001b[0m\u001b[97m█\u001b[0m\u001b[97m█\u001b[0m\u001b[97m█\u001b[0m\u001b[97m█\u001b[0m\u001b[97m█\u001b[0m\u001b[97m█\u001b[0m            |                    \u001b[K\u001b[F\u001b[K\u001b[F\u001b[K\u001b[F\u001b[K\u001b[F \u001b[1mIters\u001b[0m    \u001b[1mElapsed Time\u001b[0m      \u001b[1mSpeed\u001b[0m    \u001b[1mepoch\u001b[0m   \u001b[1mloss\u001b[0m                               \n",
      " \u001b[99m50/\u001b[93m70\u001b[0m\u001b[0m  \u001b[99m01:52:06<\u001b[93m00:44:50\u001b[0m\u001b[0m  \u001b[99m0.01it/s\u001b[0m  \u001b[99m50/70\u001b[0m  \u001b[99m0.03687\u001b[0m                             \n",
      " \u001b[1mloss_a\u001b[0m                                                                         \n",
      " \u001b[99m0.04039\u001b[0m                                                                        \n",
      "\u001b[1mDescription\u001b[0m  71.4% |\u001b[97m█\u001b[0m\u001b[97m█\u001b[0m\u001b[97m█\u001b[0m\u001b[97m█\u001b[0m\u001b[97m█\u001b[0m\u001b[97m█\u001b[0m\u001b[97m█\u001b[0m\u001b[97m█\u001b[0m\u001b[97m█\u001b[0m\u001b[97m█\u001b[0m\u001b[97m█\u001b[0m\u001b[97m█\u001b[0m\u001b[97m█\u001b[0m\u001b[97m█\u001b[0m\u001b[97m█\u001b[0m\u001b[97m█\u001b[0m\u001b[97m█\u001b[0m\u001b[97m█\u001b[0m\u001b[97m█\u001b[0m\u001b[97m█\u001b[0m\u001b[97m█\u001b[0m\u001b[97m█\u001b[0m\u001b[97m█\u001b[0m\u001b[97m█\u001b[0m\u001b[97m█\u001b[0m\u001b[97m█\u001b[0m\u001b[97m█\u001b[0m            |                    \u001b[K\u001b[F\u001b[K\u001b[F\u001b[K\u001b[F\u001b[K\u001b[F \u001b[1mIters\u001b[0m    \u001b[1mElapsed Time\u001b[0m      \u001b[1mSpeed\u001b[0m    \u001b[1mepoch\u001b[0m   \u001b[1mloss\u001b[0m                               \n",
      " \u001b[99m51/\u001b[93m70\u001b[0m\u001b[0m  \u001b[99m01:54:20<\u001b[93m00:42:35\u001b[0m\u001b[0m  \u001b[99m0.01it/s\u001b[0m  \u001b[99m51/70\u001b[0m  \u001b[99m0.03682\u001b[0m                             \n",
      " \u001b[1mloss_a\u001b[0m                                                                         \n",
      " \u001b[99m0.04069\u001b[0m                                                                        \n",
      "\u001b[1mDescription\u001b[0m  72.9% |\u001b[97m█\u001b[0m\u001b[97m█\u001b[0m\u001b[97m█\u001b[0m\u001b[97m█\u001b[0m\u001b[97m█\u001b[0m\u001b[97m█\u001b[0m\u001b[97m█\u001b[0m\u001b[97m█\u001b[0m\u001b[97m█\u001b[0m\u001b[97m█\u001b[0m\u001b[97m█\u001b[0m\u001b[97m█\u001b[0m\u001b[97m█\u001b[0m\u001b[97m█\u001b[0m\u001b[97m█\u001b[0m\u001b[97m█\u001b[0m\u001b[97m█\u001b[0m\u001b[97m█\u001b[0m\u001b[97m█\u001b[0m\u001b[97m█\u001b[0m\u001b[97m█\u001b[0m\u001b[97m█\u001b[0m\u001b[97m█\u001b[0m\u001b[97m█\u001b[0m\u001b[97m█\u001b[0m\u001b[97m█\u001b[0m\u001b[97m█\u001b[0m\u001b[97m█\u001b[0m           |                    \u001b[K\u001b[F\u001b[K\u001b[F\u001b[K\u001b[F\u001b[K\u001b[F \u001b[1mIters\u001b[0m    \u001b[1mElapsed Time\u001b[0m      \u001b[1mSpeed\u001b[0m    \u001b[1mepoch\u001b[0m   \u001b[1mloss\u001b[0m                               \n",
      " \u001b[99m52/\u001b[93m70\u001b[0m\u001b[0m  \u001b[99m01:56:34<\u001b[93m00:40:21\u001b[0m\u001b[0m  \u001b[99m0.01it/s\u001b[0m  \u001b[99m52/70\u001b[0m  \u001b[99m0.03677\u001b[0m                             \n",
      " \u001b[1mloss_a\u001b[0m                                                                         \n",
      " \u001b[99m0.04050\u001b[0m                                                                        \n",
      "\u001b[1mDescription\u001b[0m  74.3% |\u001b[97m█\u001b[0m\u001b[97m█\u001b[0m\u001b[97m█\u001b[0m\u001b[97m█\u001b[0m\u001b[97m█\u001b[0m\u001b[97m█\u001b[0m\u001b[97m█\u001b[0m\u001b[97m█\u001b[0m\u001b[97m█\u001b[0m\u001b[97m█\u001b[0m\u001b[97m█\u001b[0m\u001b[97m█\u001b[0m\u001b[97m█\u001b[0m\u001b[97m█\u001b[0m\u001b[97m█\u001b[0m\u001b[97m█\u001b[0m\u001b[97m█\u001b[0m\u001b[97m█\u001b[0m\u001b[97m█\u001b[0m\u001b[97m█\u001b[0m\u001b[97m█\u001b[0m\u001b[97m█\u001b[0m\u001b[97m█\u001b[0m\u001b[97m█\u001b[0m\u001b[97m█\u001b[0m\u001b[97m█\u001b[0m\u001b[97m█\u001b[0m\u001b[97m█\u001b[0m           |                    \u001b[K\u001b[F\u001b[K\u001b[F\u001b[K\u001b[F\u001b[K\u001b[F \u001b[1mIters\u001b[0m    \u001b[1mElapsed Time\u001b[0m      \u001b[1mSpeed\u001b[0m    \u001b[1mepoch\u001b[0m   \u001b[1mloss\u001b[0m                               \n",
      " \u001b[99m53/\u001b[93m70\u001b[0m\u001b[0m  \u001b[99m01:58:48<\u001b[93m00:38:06\u001b[0m\u001b[0m  \u001b[99m0.01it/s\u001b[0m  \u001b[99m53/70\u001b[0m  \u001b[99m0.03674\u001b[0m                             \n",
      " \u001b[1mloss_a\u001b[0m                                                                         \n",
      " \u001b[99m0.04116\u001b[0m                                                                        \n",
      "\u001b[1mDescription\u001b[0m  75.7% |\u001b[97m█\u001b[0m\u001b[97m█\u001b[0m\u001b[97m█\u001b[0m\u001b[97m█\u001b[0m\u001b[97m█\u001b[0m\u001b[97m█\u001b[0m\u001b[97m█\u001b[0m\u001b[97m█\u001b[0m\u001b[97m█\u001b[0m\u001b[97m█\u001b[0m\u001b[97m█\u001b[0m\u001b[97m█\u001b[0m\u001b[97m█\u001b[0m\u001b[97m█\u001b[0m\u001b[97m█\u001b[0m\u001b[97m█\u001b[0m\u001b[97m█\u001b[0m\u001b[97m█\u001b[0m\u001b[97m█\u001b[0m\u001b[97m█\u001b[0m\u001b[97m█\u001b[0m\u001b[97m█\u001b[0m\u001b[97m█\u001b[0m\u001b[97m█\u001b[0m\u001b[97m█\u001b[0m\u001b[97m█\u001b[0m\u001b[97m█\u001b[0m\u001b[97m█\u001b[0m\u001b[97m█\u001b[0m          |                    \u001b[K\u001b[F\u001b[K\u001b[F\u001b[K\u001b[F\u001b[K\u001b[F \u001b[1mIters\u001b[0m    \u001b[1mElapsed Time\u001b[0m      \u001b[1mSpeed\u001b[0m    \u001b[1mepoch\u001b[0m   \u001b[1mloss\u001b[0m                               \n",
      " \u001b[99m54/\u001b[93m70\u001b[0m\u001b[0m  \u001b[99m02:01:03<\u001b[93m00:35:52\u001b[0m\u001b[0m  \u001b[99m0.01it/s\u001b[0m  \u001b[99m54/70\u001b[0m  \u001b[99m0.03665\u001b[0m                             \n",
      " \u001b[1mloss_a\u001b[0m                                                                         \n",
      " \u001b[99m0.04055\u001b[0m                                                                        \n",
      "\u001b[1mDescription\u001b[0m  77.1% |\u001b[97m█\u001b[0m\u001b[97m█\u001b[0m\u001b[97m█\u001b[0m\u001b[97m█\u001b[0m\u001b[97m█\u001b[0m\u001b[97m█\u001b[0m\u001b[97m█\u001b[0m\u001b[97m█\u001b[0m\u001b[97m█\u001b[0m\u001b[97m█\u001b[0m\u001b[97m█\u001b[0m\u001b[97m█\u001b[0m\u001b[97m█\u001b[0m\u001b[97m█\u001b[0m\u001b[97m█\u001b[0m\u001b[97m█\u001b[0m\u001b[97m█\u001b[0m\u001b[97m█\u001b[0m\u001b[97m█\u001b[0m\u001b[97m█\u001b[0m\u001b[97m█\u001b[0m\u001b[97m█\u001b[0m\u001b[97m█\u001b[0m\u001b[97m█\u001b[0m\u001b[97m█\u001b[0m\u001b[97m█\u001b[0m\u001b[97m█\u001b[0m\u001b[97m█\u001b[0m\u001b[97m█\u001b[0m\u001b[97m█\u001b[0m         |                    \u001b[K\u001b[F\u001b[K\u001b[F\u001b[K\u001b[F\u001b[K\u001b[F \u001b[1mIters\u001b[0m    \u001b[1mElapsed Time\u001b[0m      \u001b[1mSpeed\u001b[0m    \u001b[1mepoch\u001b[0m   \u001b[1mloss\u001b[0m                               \n",
      " \u001b[99m55/\u001b[93m70\u001b[0m\u001b[0m  \u001b[99m02:03:17<\u001b[93m00:33:37\u001b[0m\u001b[0m  \u001b[99m0.01it/s\u001b[0m  \u001b[99m55/70\u001b[0m  \u001b[99m0.03666\u001b[0m                             \n",
      " \u001b[1mloss_a\u001b[0m                                                                         \n",
      " \u001b[99m0.04091\u001b[0m                                                                        \n",
      "\u001b[1mDescription\u001b[0m  78.6% |\u001b[97m█\u001b[0m\u001b[97m█\u001b[0m\u001b[97m█\u001b[0m\u001b[97m█\u001b[0m\u001b[97m█\u001b[0m\u001b[97m█\u001b[0m\u001b[97m█\u001b[0m\u001b[97m█\u001b[0m\u001b[97m█\u001b[0m\u001b[97m█\u001b[0m\u001b[97m█\u001b[0m\u001b[97m█\u001b[0m\u001b[97m█\u001b[0m\u001b[97m█\u001b[0m\u001b[97m█\u001b[0m\u001b[97m█\u001b[0m\u001b[97m█\u001b[0m\u001b[97m█\u001b[0m\u001b[97m█\u001b[0m\u001b[97m█\u001b[0m\u001b[97m█\u001b[0m\u001b[97m█\u001b[0m\u001b[97m█\u001b[0m\u001b[97m█\u001b[0m\u001b[97m█\u001b[0m\u001b[97m█\u001b[0m\u001b[97m█\u001b[0m\u001b[97m█\u001b[0m\u001b[97m█\u001b[0m\u001b[97m█\u001b[0m         |                    \u001b[K\u001b[F\u001b[K\u001b[F\u001b[K\u001b[F\u001b[K\u001b[F \u001b[1mIters\u001b[0m    \u001b[1mElapsed Time\u001b[0m      \u001b[1mSpeed\u001b[0m    \u001b[1mepoch\u001b[0m   \u001b[1mloss\u001b[0m                               \n",
      " \u001b[99m56/\u001b[93m70\u001b[0m\u001b[0m  \u001b[99m02:05:31<\u001b[93m00:31:22\u001b[0m\u001b[0m  \u001b[99m0.01it/s\u001b[0m  \u001b[99m56/70\u001b[0m  \u001b[99m0.03654\u001b[0m                             \n",
      " \u001b[1mloss_a\u001b[0m                                                                         \n",
      " \u001b[99m0.04070\u001b[0m                                                                        \n",
      "\u001b[1mDescription\u001b[0m  80.0% |\u001b[97m█\u001b[0m\u001b[97m█\u001b[0m\u001b[97m█\u001b[0m\u001b[97m█\u001b[0m\u001b[97m█\u001b[0m\u001b[97m█\u001b[0m\u001b[97m█\u001b[0m\u001b[97m█\u001b[0m\u001b[97m█\u001b[0m\u001b[97m█\u001b[0m\u001b[97m█\u001b[0m\u001b[97m█\u001b[0m\u001b[97m█\u001b[0m\u001b[97m█\u001b[0m\u001b[97m█\u001b[0m\u001b[97m█\u001b[0m\u001b[97m█\u001b[0m\u001b[97m█\u001b[0m\u001b[97m█\u001b[0m\u001b[97m█\u001b[0m\u001b[97m█\u001b[0m\u001b[97m█\u001b[0m\u001b[97m█\u001b[0m\u001b[97m█\u001b[0m\u001b[97m█\u001b[0m\u001b[97m█\u001b[0m\u001b[97m█\u001b[0m\u001b[97m█\u001b[0m\u001b[97m█\u001b[0m\u001b[97m█\u001b[0m\u001b[97m█\u001b[0m        |                    \u001b[K\u001b[F\u001b[K\u001b[F\u001b[K\u001b[F\u001b[K\u001b[F \u001b[1mIters\u001b[0m    \u001b[1mElapsed Time\u001b[0m      \u001b[1mSpeed\u001b[0m    \u001b[1mepoch\u001b[0m   \u001b[1mloss\u001b[0m                               \n",
      " \u001b[99m57/\u001b[93m70\u001b[0m\u001b[0m  \u001b[99m02:07:46<\u001b[93m00:29:08\u001b[0m\u001b[0m  \u001b[99m0.01it/s\u001b[0m  \u001b[99m57/70\u001b[0m  \u001b[99m0.03657\u001b[0m                             \n",
      " \u001b[1mloss_a\u001b[0m                                                                         \n",
      " \u001b[99m0.04144\u001b[0m                                                                        \n",
      "\u001b[1mDescription\u001b[0m  81.4% |\u001b[97m█\u001b[0m\u001b[97m█\u001b[0m\u001b[97m█\u001b[0m\u001b[97m█\u001b[0m\u001b[97m█\u001b[0m\u001b[97m█\u001b[0m\u001b[97m█\u001b[0m\u001b[97m█\u001b[0m\u001b[97m█\u001b[0m\u001b[97m█\u001b[0m\u001b[97m█\u001b[0m\u001b[97m█\u001b[0m\u001b[97m█\u001b[0m\u001b[97m█\u001b[0m\u001b[97m█\u001b[0m\u001b[97m█\u001b[0m\u001b[97m█\u001b[0m\u001b[97m█\u001b[0m\u001b[97m█\u001b[0m\u001b[97m█\u001b[0m\u001b[97m█\u001b[0m\u001b[97m█\u001b[0m\u001b[97m█\u001b[0m\u001b[97m█\u001b[0m\u001b[97m█\u001b[0m\u001b[97m█\u001b[0m\u001b[97m█\u001b[0m\u001b[97m█\u001b[0m\u001b[97m█\u001b[0m\u001b[97m█\u001b[0m\u001b[97m█\u001b[0m        |                    \u001b[K\u001b[F\u001b[K\u001b[F\u001b[K\u001b[F\u001b[K\u001b[F \u001b[1mIters\u001b[0m    \u001b[1mElapsed Time\u001b[0m      \u001b[1mSpeed\u001b[0m    \u001b[1mepoch\u001b[0m   \u001b[1mloss\u001b[0m                               \n",
      " \u001b[99m58/\u001b[93m70\u001b[0m\u001b[0m  \u001b[99m02:10:00<\u001b[93m00:26:53\u001b[0m\u001b[0m  \u001b[99m0.01it/s\u001b[0m  \u001b[99m58/70\u001b[0m  \u001b[99m0.03651\u001b[0m                             \n",
      " \u001b[1mloss_a\u001b[0m                                                                         \n",
      " \u001b[99m0.04126\u001b[0m                                                                        \n",
      "\u001b[1mDescription\u001b[0m  82.9% |\u001b[97m█\u001b[0m\u001b[97m█\u001b[0m\u001b[97m█\u001b[0m\u001b[97m█\u001b[0m\u001b[97m█\u001b[0m\u001b[97m█\u001b[0m\u001b[97m█\u001b[0m\u001b[97m█\u001b[0m\u001b[97m█\u001b[0m\u001b[97m█\u001b[0m\u001b[97m█\u001b[0m\u001b[97m█\u001b[0m\u001b[97m█\u001b[0m\u001b[97m█\u001b[0m\u001b[97m█\u001b[0m\u001b[97m█\u001b[0m\u001b[97m█\u001b[0m\u001b[97m█\u001b[0m\u001b[97m█\u001b[0m\u001b[97m█\u001b[0m\u001b[97m█\u001b[0m\u001b[97m█\u001b[0m\u001b[97m█\u001b[0m\u001b[97m█\u001b[0m\u001b[97m█\u001b[0m\u001b[97m█\u001b[0m\u001b[97m█\u001b[0m\u001b[97m█\u001b[0m\u001b[97m█\u001b[0m\u001b[97m█\u001b[0m\u001b[97m█\u001b[0m\u001b[97m█\u001b[0m       |                    \u001b[K\u001b[F\u001b[K\u001b[F\u001b[K\u001b[F\u001b[K\u001b[F \u001b[1mIters\u001b[0m    \u001b[1mElapsed Time\u001b[0m      \u001b[1mSpeed\u001b[0m    \u001b[1mepoch\u001b[0m   \u001b[1mloss\u001b[0m                               \n",
      " \u001b[99m59/\u001b[93m70\u001b[0m\u001b[0m  \u001b[99m02:12:15<\u001b[93m00:24:39\u001b[0m\u001b[0m  \u001b[99m0.01it/s\u001b[0m  \u001b[99m59/70\u001b[0m  \u001b[99m0.03655\u001b[0m                             \n",
      " \u001b[1mloss_a\u001b[0m                                                                         \n",
      " \u001b[99m0.04165\u001b[0m                                                                        \n",
      "\u001b[1mDescription\u001b[0m  84.3% |\u001b[97m█\u001b[0m\u001b[97m█\u001b[0m\u001b[97m█\u001b[0m\u001b[97m█\u001b[0m\u001b[97m█\u001b[0m\u001b[97m█\u001b[0m\u001b[97m█\u001b[0m\u001b[97m█\u001b[0m\u001b[97m█\u001b[0m\u001b[97m█\u001b[0m\u001b[97m█\u001b[0m\u001b[97m█\u001b[0m\u001b[97m█\u001b[0m\u001b[97m█\u001b[0m\u001b[97m█\u001b[0m\u001b[97m█\u001b[0m\u001b[97m█\u001b[0m\u001b[97m█\u001b[0m\u001b[97m█\u001b[0m\u001b[97m█\u001b[0m\u001b[97m█\u001b[0m\u001b[97m█\u001b[0m\u001b[97m█\u001b[0m\u001b[97m█\u001b[0m\u001b[97m█\u001b[0m\u001b[97m█\u001b[0m\u001b[97m█\u001b[0m\u001b[97m█\u001b[0m\u001b[97m█\u001b[0m\u001b[97m█\u001b[0m\u001b[97m█\u001b[0m\u001b[97m█\u001b[0m       |                    \u001b[K\u001b[F\u001b[K\u001b[F\u001b[K\u001b[F\u001b[K\u001b[F \u001b[1mIters\u001b[0m    \u001b[1mElapsed Time\u001b[0m      \u001b[1mSpeed\u001b[0m    \u001b[1mepoch\u001b[0m   \u001b[1mloss\u001b[0m                               \n",
      " \u001b[99m60/\u001b[93m70\u001b[0m\u001b[0m  \u001b[99m02:14:29<\u001b[93m00:22:24\u001b[0m\u001b[0m  \u001b[99m0.01it/s\u001b[0m  \u001b[99m60/70\u001b[0m  \u001b[99m0.03651\u001b[0m                             \n",
      " \u001b[1mloss_a\u001b[0m                                                                         \n",
      " \u001b[99m0.04133\u001b[0m                                                                        \n",
      "\u001b[1mDescription\u001b[0m  85.7% |\u001b[97m█\u001b[0m\u001b[97m█\u001b[0m\u001b[97m█\u001b[0m\u001b[97m█\u001b[0m\u001b[97m█\u001b[0m\u001b[97m█\u001b[0m\u001b[97m█\u001b[0m\u001b[97m█\u001b[0m\u001b[97m█\u001b[0m\u001b[97m█\u001b[0m\u001b[97m█\u001b[0m\u001b[97m█\u001b[0m\u001b[97m█\u001b[0m\u001b[97m█\u001b[0m\u001b[97m█\u001b[0m\u001b[97m█\u001b[0m\u001b[97m█\u001b[0m\u001b[97m█\u001b[0m\u001b[97m█\u001b[0m\u001b[97m█\u001b[0m\u001b[97m█\u001b[0m\u001b[97m█\u001b[0m\u001b[97m█\u001b[0m\u001b[97m█\u001b[0m\u001b[97m█\u001b[0m\u001b[97m█\u001b[0m\u001b[97m█\u001b[0m\u001b[97m█\u001b[0m\u001b[97m█\u001b[0m\u001b[97m█\u001b[0m\u001b[97m█\u001b[0m\u001b[97m█\u001b[0m\u001b[97m█\u001b[0m      |                    \u001b[K\u001b[F\u001b[K\u001b[F\u001b[K\u001b[F\u001b[K\u001b[F \u001b[1mIters\u001b[0m    \u001b[1mElapsed Time\u001b[0m      \u001b[1mSpeed\u001b[0m    \u001b[1mepoch\u001b[0m   \u001b[1mloss\u001b[0m                               \n",
      " \u001b[99m61/\u001b[93m70\u001b[0m\u001b[0m  \u001b[99m02:16:43<\u001b[93m00:20:10\u001b[0m\u001b[0m  \u001b[99m0.01it/s\u001b[0m  \u001b[99m61/70\u001b[0m  \u001b[99m0.03644\u001b[0m                             \n",
      " \u001b[1mloss_a\u001b[0m                                                                         \n",
      " \u001b[99m0.04148\u001b[0m                                                                        \n",
      "\u001b[1mDescription\u001b[0m  87.1% |\u001b[97m█\u001b[0m\u001b[97m█\u001b[0m\u001b[97m█\u001b[0m\u001b[97m█\u001b[0m\u001b[97m█\u001b[0m\u001b[97m█\u001b[0m\u001b[97m█\u001b[0m\u001b[97m█\u001b[0m\u001b[97m█\u001b[0m\u001b[97m█\u001b[0m\u001b[97m█\u001b[0m\u001b[97m█\u001b[0m\u001b[97m█\u001b[0m\u001b[97m█\u001b[0m\u001b[97m█\u001b[0m\u001b[97m█\u001b[0m\u001b[97m█\u001b[0m\u001b[97m█\u001b[0m\u001b[97m█\u001b[0m\u001b[97m█\u001b[0m\u001b[97m█\u001b[0m\u001b[97m█\u001b[0m\u001b[97m█\u001b[0m\u001b[97m█\u001b[0m\u001b[97m█\u001b[0m\u001b[97m█\u001b[0m\u001b[97m█\u001b[0m\u001b[97m█\u001b[0m\u001b[97m█\u001b[0m\u001b[97m█\u001b[0m\u001b[97m█\u001b[0m\u001b[97m█\u001b[0m\u001b[97m█\u001b[0m      |                    \u001b[K\u001b[F\u001b[K\u001b[F\u001b[K\u001b[F\u001b[K\u001b[F \u001b[1mIters\u001b[0m    \u001b[1mElapsed Time\u001b[0m      \u001b[1mSpeed\u001b[0m    \u001b[1mepoch\u001b[0m   \u001b[1mloss\u001b[0m                               \n",
      " \u001b[99m62/\u001b[93m70\u001b[0m\u001b[0m  \u001b[99m02:18:57<\u001b[93m00:17:55\u001b[0m\u001b[0m  \u001b[99m0.01it/s\u001b[0m  \u001b[99m62/70\u001b[0m  \u001b[99m0.03641\u001b[0m                             \n",
      " \u001b[1mloss_a\u001b[0m                                                                         \n",
      " \u001b[99m0.04233\u001b[0m                                                                        \n",
      "\u001b[1mDescription\u001b[0m  88.6% |\u001b[97m█\u001b[0m\u001b[97m█\u001b[0m\u001b[97m█\u001b[0m\u001b[97m█\u001b[0m\u001b[97m█\u001b[0m\u001b[97m█\u001b[0m\u001b[97m█\u001b[0m\u001b[97m█\u001b[0m\u001b[97m█\u001b[0m\u001b[97m█\u001b[0m\u001b[97m█\u001b[0m\u001b[97m█\u001b[0m\u001b[97m█\u001b[0m\u001b[97m█\u001b[0m\u001b[97m█\u001b[0m\u001b[97m█\u001b[0m\u001b[97m█\u001b[0m\u001b[97m█\u001b[0m\u001b[97m█\u001b[0m\u001b[97m█\u001b[0m\u001b[97m█\u001b[0m\u001b[97m█\u001b[0m\u001b[97m█\u001b[0m\u001b[97m█\u001b[0m\u001b[97m█\u001b[0m\u001b[97m█\u001b[0m\u001b[97m█\u001b[0m\u001b[97m█\u001b[0m\u001b[97m█\u001b[0m\u001b[97m█\u001b[0m\u001b[97m█\u001b[0m\u001b[97m█\u001b[0m\u001b[97m█\u001b[0m\u001b[97m█\u001b[0m     |                    \u001b[K\u001b[F\u001b[K\u001b[F\u001b[K\u001b[F\u001b[K\u001b[F \u001b[1mIters\u001b[0m    \u001b[1mElapsed Time\u001b[0m      \u001b[1mSpeed\u001b[0m    \u001b[1mepoch\u001b[0m   \u001b[1mloss\u001b[0m                               \n",
      " \u001b[99m63/\u001b[93m70\u001b[0m\u001b[0m  \u001b[99m02:21:12<\u001b[93m00:15:41\u001b[0m\u001b[0m  \u001b[99m0.01it/s\u001b[0m  \u001b[99m63/70\u001b[0m  \u001b[99m0.03634\u001b[0m                             \n",
      " \u001b[1mloss_a\u001b[0m                                                                         \n",
      " \u001b[99m0.04167\u001b[0m                                                                        \n",
      "\u001b[1mDescription\u001b[0m  90.0% |\u001b[97m█\u001b[0m\u001b[97m█\u001b[0m\u001b[97m█\u001b[0m\u001b[97m█\u001b[0m\u001b[97m█\u001b[0m\u001b[97m█\u001b[0m\u001b[97m█\u001b[0m\u001b[97m█\u001b[0m\u001b[97m█\u001b[0m\u001b[97m█\u001b[0m\u001b[97m█\u001b[0m\u001b[97m█\u001b[0m\u001b[97m█\u001b[0m\u001b[97m█\u001b[0m\u001b[97m█\u001b[0m\u001b[97m█\u001b[0m\u001b[97m█\u001b[0m\u001b[97m█\u001b[0m\u001b[97m█\u001b[0m\u001b[97m█\u001b[0m\u001b[97m█\u001b[0m\u001b[97m█\u001b[0m\u001b[97m█\u001b[0m\u001b[97m█\u001b[0m\u001b[97m█\u001b[0m\u001b[97m█\u001b[0m\u001b[97m█\u001b[0m\u001b[97m█\u001b[0m\u001b[97m█\u001b[0m\u001b[97m█\u001b[0m\u001b[97m█\u001b[0m\u001b[97m█\u001b[0m\u001b[97m█\u001b[0m\u001b[97m█\u001b[0m\u001b[97m█\u001b[0m    |                    \u001b[K\u001b[F\u001b[K\u001b[F\u001b[K\u001b[F\u001b[K\u001b[F \u001b[1mIters\u001b[0m    \u001b[1mElapsed Time\u001b[0m      \u001b[1mSpeed\u001b[0m    \u001b[1mepoch\u001b[0m   \u001b[1mloss\u001b[0m                               \n",
      " \u001b[99m64/\u001b[93m70\u001b[0m\u001b[0m  \u001b[99m02:23:26<\u001b[93m00:13:26\u001b[0m\u001b[0m  \u001b[99m0.01it/s\u001b[0m  \u001b[99m64/70\u001b[0m  \u001b[99m0.03630\u001b[0m                             \n",
      " \u001b[1mloss_a\u001b[0m                                                                         \n",
      " \u001b[99m0.04193\u001b[0m                                                                        \n",
      "\u001b[1mDescription\u001b[0m  91.4% |\u001b[97m█\u001b[0m\u001b[97m█\u001b[0m\u001b[97m█\u001b[0m\u001b[97m█\u001b[0m\u001b[97m█\u001b[0m\u001b[97m█\u001b[0m\u001b[97m█\u001b[0m\u001b[97m█\u001b[0m\u001b[97m█\u001b[0m\u001b[97m█\u001b[0m\u001b[97m█\u001b[0m\u001b[97m█\u001b[0m\u001b[97m█\u001b[0m\u001b[97m█\u001b[0m\u001b[97m█\u001b[0m\u001b[97m█\u001b[0m\u001b[97m█\u001b[0m\u001b[97m█\u001b[0m\u001b[97m█\u001b[0m\u001b[97m█\u001b[0m\u001b[97m█\u001b[0m\u001b[97m█\u001b[0m\u001b[97m█\u001b[0m\u001b[97m█\u001b[0m\u001b[97m█\u001b[0m\u001b[97m█\u001b[0m\u001b[97m█\u001b[0m\u001b[97m█\u001b[0m\u001b[97m█\u001b[0m\u001b[97m█\u001b[0m\u001b[97m█\u001b[0m\u001b[97m█\u001b[0m\u001b[97m█\u001b[0m\u001b[97m█\u001b[0m\u001b[97m█\u001b[0m    |                    \u001b[K\u001b[F\u001b[K\u001b[F\u001b[K\u001b[F\u001b[K\u001b[F \u001b[1mIters\u001b[0m    \u001b[1mElapsed Time\u001b[0m      \u001b[1mSpeed\u001b[0m    \u001b[1mepoch\u001b[0m   \u001b[1mloss\u001b[0m                               \n",
      " \u001b[99m65/\u001b[93m70\u001b[0m\u001b[0m  \u001b[99m02:25:39<\u001b[93m00:11:12\u001b[0m\u001b[0m  \u001b[99m0.01it/s\u001b[0m  \u001b[99m65/70\u001b[0m  \u001b[99m0.03627\u001b[0m                             \n",
      " \u001b[1mloss_a\u001b[0m                                                                         \n",
      " \u001b[99m0.04226\u001b[0m                                                                        \n",
      "\u001b[1mDescription\u001b[0m  92.9% |\u001b[97m█\u001b[0m\u001b[97m█\u001b[0m\u001b[97m█\u001b[0m\u001b[97m█\u001b[0m\u001b[97m█\u001b[0m\u001b[97m█\u001b[0m\u001b[97m█\u001b[0m\u001b[97m█\u001b[0m\u001b[97m█\u001b[0m\u001b[97m█\u001b[0m\u001b[97m█\u001b[0m\u001b[97m█\u001b[0m\u001b[97m█\u001b[0m\u001b[97m█\u001b[0m\u001b[97m█\u001b[0m\u001b[97m█\u001b[0m\u001b[97m█\u001b[0m\u001b[97m█\u001b[0m\u001b[97m█\u001b[0m\u001b[97m█\u001b[0m\u001b[97m█\u001b[0m\u001b[97m█\u001b[0m\u001b[97m█\u001b[0m\u001b[97m█\u001b[0m\u001b[97m█\u001b[0m\u001b[97m█\u001b[0m\u001b[97m█\u001b[0m\u001b[97m█\u001b[0m\u001b[97m█\u001b[0m\u001b[97m█\u001b[0m\u001b[97m█\u001b[0m\u001b[97m█\u001b[0m\u001b[97m█\u001b[0m\u001b[97m█\u001b[0m\u001b[97m█\u001b[0m\u001b[97m█\u001b[0m   |                    \u001b[K\u001b[F\u001b[K\u001b[F\u001b[K\u001b[F\u001b[K\u001b[F \u001b[1mIters\u001b[0m    \u001b[1mElapsed Time\u001b[0m      \u001b[1mSpeed\u001b[0m    \u001b[1mepoch\u001b[0m   \u001b[1mloss\u001b[0m                               \n",
      " \u001b[99m66/\u001b[93m70\u001b[0m\u001b[0m  \u001b[99m02:27:54<\u001b[93m00:08:57\u001b[0m\u001b[0m  \u001b[99m0.01it/s\u001b[0m  \u001b[99m66/70\u001b[0m  \u001b[99m0.03626\u001b[0m                             \n",
      " \u001b[1mloss_a\u001b[0m                                                                         \n",
      " \u001b[99m0.04230\u001b[0m                                                                        \n",
      "\u001b[1mDescription\u001b[0m  94.3% |\u001b[97m█\u001b[0m\u001b[97m█\u001b[0m\u001b[97m█\u001b[0m\u001b[97m█\u001b[0m\u001b[97m█\u001b[0m\u001b[97m█\u001b[0m\u001b[97m█\u001b[0m\u001b[97m█\u001b[0m\u001b[97m█\u001b[0m\u001b[97m█\u001b[0m\u001b[97m█\u001b[0m\u001b[97m█\u001b[0m\u001b[97m█\u001b[0m\u001b[97m█\u001b[0m\u001b[97m█\u001b[0m\u001b[97m█\u001b[0m\u001b[97m█\u001b[0m\u001b[97m█\u001b[0m\u001b[97m█\u001b[0m\u001b[97m█\u001b[0m\u001b[97m█\u001b[0m\u001b[97m█\u001b[0m\u001b[97m█\u001b[0m\u001b[97m█\u001b[0m\u001b[97m█\u001b[0m\u001b[97m█\u001b[0m\u001b[97m█\u001b[0m\u001b[97m█\u001b[0m\u001b[97m█\u001b[0m\u001b[97m█\u001b[0m\u001b[97m█\u001b[0m\u001b[97m█\u001b[0m\u001b[97m█\u001b[0m\u001b[97m█\u001b[0m\u001b[97m█\u001b[0m\u001b[97m█\u001b[0m   |                    \u001b[K\u001b[F\u001b[K\u001b[F\u001b[K\u001b[F\u001b[K\u001b[F \u001b[1mIters\u001b[0m    \u001b[1mElapsed Time\u001b[0m      \u001b[1mSpeed\u001b[0m    \u001b[1mepoch\u001b[0m   \u001b[1mloss\u001b[0m                               \n",
      " \u001b[99m67/\u001b[93m70\u001b[0m\u001b[0m  \u001b[99m02:30:08<\u001b[93m00:06:43\u001b[0m\u001b[0m  \u001b[99m0.01it/s\u001b[0m  \u001b[99m67/70\u001b[0m  \u001b[99m0.03623\u001b[0m                             \n",
      " \u001b[1mloss_a\u001b[0m                                                                         \n",
      " \u001b[99m0.04252\u001b[0m                                                                        \n",
      "\u001b[1mDescription\u001b[0m  95.7% |\u001b[97m█\u001b[0m\u001b[97m█\u001b[0m\u001b[97m█\u001b[0m\u001b[97m█\u001b[0m\u001b[97m█\u001b[0m\u001b[97m█\u001b[0m\u001b[97m█\u001b[0m\u001b[97m█\u001b[0m\u001b[97m█\u001b[0m\u001b[97m█\u001b[0m\u001b[97m█\u001b[0m\u001b[97m█\u001b[0m\u001b[97m█\u001b[0m\u001b[97m█\u001b[0m\u001b[97m█\u001b[0m\u001b[97m█\u001b[0m\u001b[97m█\u001b[0m\u001b[97m█\u001b[0m\u001b[97m█\u001b[0m\u001b[97m█\u001b[0m\u001b[97m█\u001b[0m\u001b[97m█\u001b[0m\u001b[97m█\u001b[0m\u001b[97m█\u001b[0m\u001b[97m█\u001b[0m\u001b[97m█\u001b[0m\u001b[97m█\u001b[0m\u001b[97m█\u001b[0m\u001b[97m█\u001b[0m\u001b[97m█\u001b[0m\u001b[97m█\u001b[0m\u001b[97m█\u001b[0m\u001b[97m█\u001b[0m\u001b[97m█\u001b[0m\u001b[97m█\u001b[0m\u001b[97m█\u001b[0m\u001b[97m█\u001b[0m  |                    \u001b[K\u001b[F\u001b[K\u001b[F\u001b[K\u001b[F\u001b[K\u001b[F \u001b[1mIters\u001b[0m    \u001b[1mElapsed Time\u001b[0m      \u001b[1mSpeed\u001b[0m    \u001b[1mepoch\u001b[0m   \u001b[1mloss\u001b[0m                               \n",
      " \u001b[99m68/\u001b[93m70\u001b[0m\u001b[0m  \u001b[99m02:32:22<\u001b[93m00:04:28\u001b[0m\u001b[0m  \u001b[99m0.01it/s\u001b[0m  \u001b[99m68/70\u001b[0m  \u001b[99m0.03614\u001b[0m                             \n",
      " \u001b[1mloss_a\u001b[0m                                                                         \n",
      " \u001b[99m0.04203\u001b[0m                                                                        \n",
      "\u001b[1mDescription\u001b[0m  97.1% |\u001b[97m█\u001b[0m\u001b[97m█\u001b[0m\u001b[97m█\u001b[0m\u001b[97m█\u001b[0m\u001b[97m█\u001b[0m\u001b[97m█\u001b[0m\u001b[97m█\u001b[0m\u001b[97m█\u001b[0m\u001b[97m█\u001b[0m\u001b[97m█\u001b[0m\u001b[97m█\u001b[0m\u001b[97m█\u001b[0m\u001b[97m█\u001b[0m\u001b[97m█\u001b[0m\u001b[97m█\u001b[0m\u001b[97m█\u001b[0m\u001b[97m█\u001b[0m\u001b[97m█\u001b[0m\u001b[97m█\u001b[0m\u001b[97m█\u001b[0m\u001b[97m█\u001b[0m\u001b[97m█\u001b[0m\u001b[97m█\u001b[0m\u001b[97m█\u001b[0m\u001b[97m█\u001b[0m\u001b[97m█\u001b[0m\u001b[97m█\u001b[0m\u001b[97m█\u001b[0m\u001b[97m█\u001b[0m\u001b[97m█\u001b[0m\u001b[97m█\u001b[0m\u001b[97m█\u001b[0m\u001b[97m█\u001b[0m\u001b[97m█\u001b[0m\u001b[97m█\u001b[0m\u001b[97m█\u001b[0m\u001b[97m█\u001b[0m  |                    \u001b[K\u001b[F\u001b[K\u001b[F\u001b[K\u001b[F\u001b[K\u001b[F \u001b[1mIters\u001b[0m    \u001b[1mElapsed Time\u001b[0m      \u001b[1mSpeed\u001b[0m    \u001b[1mepoch\u001b[0m   \u001b[1mloss\u001b[0m                               \n",
      " \u001b[99m69/\u001b[93m70\u001b[0m\u001b[0m  \u001b[99m02:34:37<\u001b[93m00:02:14\u001b[0m\u001b[0m  \u001b[99m0.01it/s\u001b[0m  \u001b[99m69/70\u001b[0m  \u001b[99m0.03618\u001b[0m                             \n",
      " \u001b[1mloss_a\u001b[0m                                                                         \n",
      " \u001b[99m0.04254\u001b[0m                                                                        \n",
      "\u001b[1mDescription\u001b[0m  98.6% |\u001b[97m█\u001b[0m\u001b[97m█\u001b[0m\u001b[97m█\u001b[0m\u001b[97m█\u001b[0m\u001b[97m█\u001b[0m\u001b[97m█\u001b[0m\u001b[97m█\u001b[0m\u001b[97m█\u001b[0m\u001b[97m█\u001b[0m\u001b[97m█\u001b[0m\u001b[97m█\u001b[0m\u001b[97m█\u001b[0m\u001b[97m█\u001b[0m\u001b[97m█\u001b[0m\u001b[97m█\u001b[0m\u001b[97m█\u001b[0m\u001b[97m█\u001b[0m\u001b[97m█\u001b[0m\u001b[97m█\u001b[0m\u001b[97m█\u001b[0m\u001b[97m█\u001b[0m\u001b[97m█\u001b[0m\u001b[97m█\u001b[0m\u001b[97m█\u001b[0m\u001b[97m█\u001b[0m\u001b[97m█\u001b[0m\u001b[97m█\u001b[0m\u001b[97m█\u001b[0m\u001b[97m█\u001b[0m\u001b[97m█\u001b[0m\u001b[97m█\u001b[0m\u001b[97m█\u001b[0m\u001b[97m█\u001b[0m\u001b[97m█\u001b[0m\u001b[97m█\u001b[0m\u001b[97m█\u001b[0m\u001b[97m█\u001b[0m\u001b[97m█\u001b[0m |                    \u001b[K\u001b[F\u001b[K\u001b[F\u001b[K\u001b[F\u001b[K\u001b[F \u001b[1mIters\u001b[0m    \u001b[1mElapsed Time\u001b[0m      \u001b[1mSpeed\u001b[0m    \u001b[1mepoch\u001b[0m   \u001b[1mloss\u001b[0m                               \n",
      " \u001b[99m70/\u001b[93m70\u001b[0m\u001b[0m  \u001b[99m02:36:52<\u001b[93m00:00:00\u001b[0m\u001b[0m  \u001b[99m0.01it/s\u001b[0m  \u001b[99m70/70\u001b[0m  \u001b[99m0.03614\u001b[0m                             \n",
      " \u001b[1mloss_a\u001b[0m                                                                         \n",
      " \u001b[99m0.04256\u001b[0m                                                                        \n",
      "\u001b[1mDescription\u001b[0m 100.0% |\u001b[97m█\u001b[0m\u001b[97m█\u001b[0m\u001b[97m█\u001b[0m\u001b[97m█\u001b[0m\u001b[97m█\u001b[0m\u001b[97m█\u001b[0m\u001b[97m█\u001b[0m\u001b[97m█\u001b[0m\u001b[97m█\u001b[0m\u001b[97m█\u001b[0m\u001b[97m█\u001b[0m\u001b[97m█\u001b[0m\u001b[97m█\u001b[0m\u001b[97m█\u001b[0m\u001b[97m█\u001b[0m\u001b[97m█\u001b[0m\u001b[97m█\u001b[0m\u001b[97m█\u001b[0m\u001b[97m█\u001b[0m\u001b[97m█\u001b[0m\u001b[97m█\u001b[0m\u001b[97m█\u001b[0m\u001b[97m█\u001b[0m\u001b[97m█\u001b[0m\u001b[97m█\u001b[0m\u001b[97m█\u001b[0m\u001b[97m█\u001b[0m\u001b[97m█\u001b[0m\u001b[97m█\u001b[0m\u001b[97m█\u001b[0m\u001b[97m█\u001b[0m\u001b[97m█\u001b[0m\u001b[97m█\u001b[0m\u001b[97m█\u001b[0m\u001b[97m█\u001b[0m\u001b[97m█\u001b[0m\u001b[97m█\u001b[0m\u001b[97m█\u001b[0m\u001b[97m█\u001b[0m|                    \u001b[K\u001b[F\u001b[K\u001b[F\u001b[K\u001b[F\u001b[K\u001b[F \u001b[1mIters\u001b[0m    \u001b[1mElapsed Time\u001b[0m      \u001b[1mSpeed\u001b[0m    \u001b[1mepoch\u001b[0m   \u001b[1mloss\u001b[0m                               \n",
      " \u001b[99m70/\u001b[93m70\u001b[0m\u001b[0m  \u001b[99m02:36:52<\u001b[93m00:00:00\u001b[0m\u001b[0m  \u001b[99m0.01it/s\u001b[0m  \u001b[99m70/70\u001b[0m  \u001b[99m0.03614\u001b[0m                             \n",
      " \u001b[1mloss_a\u001b[0m                                                                         \n",
      " \u001b[99m0.04256\u001b[0m                                                                        \n",
      "\u001b[1mDescription\u001b[0m 100.0% |\u001b[97m█\u001b[0m\u001b[97m█\u001b[0m\u001b[97m█\u001b[0m\u001b[97m█\u001b[0m\u001b[97m█\u001b[0m\u001b[97m█\u001b[0m\u001b[97m█\u001b[0m\u001b[97m█\u001b[0m\u001b[97m█\u001b[0m\u001b[97m█\u001b[0m\u001b[97m█\u001b[0m\u001b[97m█\u001b[0m\u001b[97m█\u001b[0m\u001b[97m█\u001b[0m\u001b[97m█\u001b[0m\u001b[97m█\u001b[0m\u001b[97m█\u001b[0m\u001b[97m█\u001b[0m\u001b[97m█\u001b[0m\u001b[97m█\u001b[0m\u001b[97m█\u001b[0m\u001b[97m█\u001b[0m\u001b[97m█\u001b[0m\u001b[97m█\u001b[0m\u001b[97m█\u001b[0m\u001b[97m█\u001b[0m\u001b[97m█\u001b[0m\u001b[97m█\u001b[0m\u001b[97m█\u001b[0m\u001b[97m█\u001b[0m\u001b[97m█\u001b[0m\u001b[97m█\u001b[0m\u001b[97m█\u001b[0m\u001b[97m█\u001b[0m\u001b[97m█\u001b[0m\u001b[97m█\u001b[0m\u001b[97m█\u001b[0m\u001b[97m█\u001b[0m\u001b[97m█\u001b[0m|                    "
     ]
    }
   ],
   "source": [
    "best_loss = np.inf\n",
    "\n",
    "qqdm_train = qqdm(range(num_epochs), desc=format_str('bold', 'Description'), dynamic_ncols=False)\n",
    "for epoch in qqdm_train:\n",
    "    tot_loss = list()\n",
    "    tot_loss_a = list()\n",
    "    aux.train()\n",
    "    temperature = epoch // 2 + 1\n",
    "    for data in train_dataloader:\n",
    "        # ===================loading=====================\n",
    "        img = data.float().cuda()\n",
    "        if model_type in ['fcn']:\n",
    "            img = img.view(img.shape[0], -1)\n",
    "        # ===================train autoencoder=====================\n",
    "        model.train()\n",
    "        output = model(img)\n",
    "        if model_type in ['vae']:\n",
    "            loss = loss_vae(output[0], img, output[1], output[2], criterion)\n",
    "        else:\n",
    "            loss = criterion(output, img)\n",
    "        loss = loss.mean()\n",
    "        tot_loss.append(loss.item())\n",
    "        optimizer.zero_grad()\n",
    "        loss.backward()\n",
    "        optimizer.step()\n",
    "        # ===================train aux=====================\n",
    "        model.eval()\n",
    "        z = model.encoder(img).detach_()\n",
    "        output = output.detach_()\n",
    "        output_a = aux(z)\n",
    "        loss_a = (criterion(output_a, output).mul(temperature).exp())*criterion(output_a, img)\n",
    "        loss_a = loss_a.mean()\n",
    "        tot_loss_a.append(loss_a.item())\n",
    "        optimizer_a.zero_grad()\n",
    "        loss_a.backward()\n",
    "        optimizer_a.step()\n",
    "    # ===================save_best====================\n",
    "    mean_loss = np.mean(tot_loss)\n",
    "    if mean_loss < best_loss:\n",
    "        best_loss = mean_loss\n",
    "        torch.save(model, 'best_model_{}.pt'.format(model_type))\n",
    "        torch.save(aux, 'best_model_a_{}.pt'.format(model_type))\n",
    "    # ===================log========================\n",
    "    qqdm_train.set_infos({\n",
    "        'epoch': f'{epoch + 1:.0f}/{num_epochs:.0f}',\n",
    "        'loss':f'{np.mean(tot_loss):.5f}',\n",
    "        'loss_a':f'{np.mean(tot_loss_a):.5f}'\n",
    "    })\n",
    "    \n",
    "\n",
    "# ===================save_last========================\n",
    "torch.save(model, 'last_model_{}.pt'.format(model_type))\n",
    "torch.save(aux, 'last_model_a_{}.pt'.format(model_type))"
   ]
  },
  {
   "cell_type": "markdown",
   "id": "7b796e43",
   "metadata": {
    "id": "Wk0UxFuchLzR",
    "papermill": {
     "duration": 0.011368,
     "end_time": "2022-06-14T17:11:09.736843",
     "exception": false,
     "start_time": "2022-06-14T17:11:09.725475",
     "status": "completed"
    },
    "tags": []
   },
   "source": [
    "# Inference\n",
    "Model is loaded and generates its anomaly score predictions."
   ]
  },
  {
   "cell_type": "markdown",
   "id": "06ec2d4f",
   "metadata": {
    "id": "evgMW3OwoGqD",
    "papermill": {
     "duration": 0.011222,
     "end_time": "2022-06-14T17:11:09.759449",
     "exception": false,
     "start_time": "2022-06-14T17:11:09.748227",
     "status": "completed"
    },
    "tags": []
   },
   "source": [
    "## Initialize\n",
    "- dataloader\n",
    "- model\n",
    "- prediction file"
   ]
  },
  {
   "cell_type": "code",
   "execution_count": 14,
   "id": "cb24482b",
   "metadata": {
    "execution": {
     "iopub.execute_input": "2022-06-14T17:11:09.783667Z",
     "iopub.status.busy": "2022-06-14T17:11:09.783362Z",
     "iopub.status.idle": "2022-06-14T17:11:10.449271Z",
     "shell.execute_reply": "2022-06-14T17:11:10.448388Z"
    },
    "id": "_MBnXAswoKmq",
    "papermill": {
     "duration": 0.680934,
     "end_time": "2022-06-14T17:11:10.451773",
     "exception": false,
     "start_time": "2022-06-14T17:11:09.770839",
     "status": "completed"
    },
    "tags": []
   },
   "outputs": [],
   "source": [
    "eval_batch_size = 200\n",
    "\n",
    "# build testing dataloader\n",
    "data = torch.tensor(test, dtype=torch.float32)\n",
    "test_dataset = CustomTensorDataset(data)\n",
    "test_sampler = SequentialSampler(test_dataset)\n",
    "test_dataloader = DataLoader(test_dataset, sampler=test_sampler, batch_size=eval_batch_size, num_workers=1)\n",
    "eval_loss = nn.MSELoss(reduction='none')\n",
    "\n",
    "# load trained model\n",
    "checkpoint_path = f'best_model_{model_type}.pt'\n",
    "checkpoint_path_a = f'best_model_a_{model_type}.pt'\n",
    "model = torch.load(checkpoint_path).cuda()\n",
    "aux = torch.load(checkpoint_path_a).cuda()\n",
    "model.eval()\n",
    " \n",
    "# prediction file \n",
    "out_file = 'prediction.csv'\n",
    "out_file_a = 'prediction_a.csv'"
   ]
  },
  {
   "cell_type": "code",
   "execution_count": 15,
   "id": "800650e6",
   "metadata": {
    "execution": {
     "iopub.execute_input": "2022-06-14T17:11:10.480268Z",
     "iopub.status.busy": "2022-06-14T17:11:10.479759Z",
     "iopub.status.idle": "2022-06-14T17:11:15.335373Z",
     "shell.execute_reply": "2022-06-14T17:11:15.334226Z"
    },
    "id": "_1IxCX2iCW6V",
    "papermill": {
     "duration": 4.872026,
     "end_time": "2022-06-14T17:11:15.337718",
     "exception": false,
     "start_time": "2022-06-14T17:11:10.465692",
     "status": "completed"
    },
    "tags": []
   },
   "outputs": [],
   "source": [
    "anomality = list()\n",
    "auxs = list()\n",
    "with torch.no_grad():\n",
    "  for i, data in enumerate(test_dataloader):\n",
    "    img = data.float().cuda()\n",
    "    if model_type in ['fcn']:\n",
    "      img = img.view(img.shape[0], -1)\n",
    "    z = model.encoder(img)\n",
    "    output, output_a = model.decoder(z), aux(z)\n",
    "    if model_type in ['vae']:\n",
    "      output = output[0]\n",
    "    if model_type in ['fcn']:\n",
    "        loss = eval_loss(output, img).mean(-1)\n",
    "    else:\n",
    "        loss = eval_loss(output, img).mean([1, 2, 3])\n",
    "        loss_a = eval_loss(output_a, img).mean([1, 2, 3])\n",
    "    anomality.append(loss)\n",
    "    auxs.append(loss_a)\n",
    "\n",
    "anomality = torch.cat(anomality, axis=0)\n",
    "anomality = torch.sqrt(anomality).reshape(len(test), 1).cpu().numpy()\n",
    "auxs = torch.cat(auxs, axis=0)\n",
    "auxs = torch.sqrt(auxs).reshape(len(test), 1).cpu().numpy()\n",
    "\n",
    "df = pd.DataFrame(anomality, columns=['score'])\n",
    "df.to_csv(out_file, index_label = 'ID')\n",
    "df_a = pd.DataFrame(auxs, columns=['score'])\n",
    "df_a.to_csv(out_file_a, index_label = 'ID')"
   ]
  },
  {
   "cell_type": "code",
   "execution_count": 16,
   "id": "1141ca8a",
   "metadata": {
    "execution": {
     "iopub.execute_input": "2022-06-14T17:11:15.376135Z",
     "iopub.status.busy": "2022-06-14T17:11:15.375667Z",
     "iopub.status.idle": "2022-06-14T17:11:15.682344Z",
     "shell.execute_reply": "2022-06-14T17:11:15.681542Z"
    },
    "id": "6J5vQgkxOB4K",
    "papermill": {
     "duration": 0.326291,
     "end_time": "2022-06-14T17:11:15.684019",
     "exception": false,
     "start_time": "2022-06-14T17:11:15.357728",
     "status": "completed"
    },
    "tags": []
   },
   "outputs": [
    {
     "data": {
      "image/png": "[encoded data removed]",
      "text/plain": [
       "<Figure size 864x288 with 2 Axes>"
      ]
     },
     "metadata": {
      "needs_background": "light"
     },
     "output_type": "display_data"
    }
   ],
   "source": [
    "import matplotlib.pyplot as plt\n",
    "plt.figure(figsize=(12, 4))\n",
    "plt.subplot(121)\n",
    "plt.title('reconstrcut error')\n",
    "plt.hist(df.score)\n",
    "plt.subplot(122)\n",
    "plt.title('aux error')\n",
    "plt.hist(df_a.score)\n",
    "plt.show()"
   ]
  }
 ],
 "metadata": {
  "kernelspec": {
   "display_name": "Python 3",
   "language": "python",
   "name": "python3"
  },
  "language_info": {
   "codemirror_mode": {
    "name": "ipython",
    "version": 3
   },
   "file_extension": ".py",
   "mimetype": "text/x-python",
   "name": "python",
   "nbconvert_exporter": "python",
   "pygments_lexer": "ipython3",
   "version": "3.9.16"
  },
  "papermill": {
   "default_parameters": {},
   "duration": 9466.924949,
   "end_time": "2022-06-14T17:11:17.033284",
   "environment_variables": {},
   "exception": null,
   "input_path": "__notebook__.ipynb",
   "output_path": "__notebook__.ipynb",
   "parameters": {},
   "start_time": "2022-06-14T14:33:30.108335",
   "version": "2.3.4"
  }
 },
 "nbformat": 4,
 "nbformat_minor": 5
}
